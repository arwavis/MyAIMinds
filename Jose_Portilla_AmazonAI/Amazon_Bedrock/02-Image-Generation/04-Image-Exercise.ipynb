{
 "cells": [
  {
   "cell_type": "markdown",
   "id": "dd9e0182-10bf-46b0-b350-fbf7c7633b1e",
   "metadata": {},
   "source": [
    "<a href = \"https://www.pieriantraining.com\"><img src=\"../PT Centered Purple.png\"> </a>\n",
    "\n",
    "<em style=\"text-align:center\">Copyrighted by Pierian Training</em>"
   ]
  },
  {
   "cell_type": "markdown",
   "id": "ee7ed2fc-eacf-4679-905f-28d19f206ec3",
   "metadata": {},
   "source": [
    "# Image Generation Exercise\n",
    "\n",
    "## GOAL: Given a list of ingredients, generate a dish, a recipe, and a picture of the dish"
   ]
  },
  {
   "cell_type": "code",
   "execution_count": null,
   "id": "f8e9c502-da84-4fa4-a68c-b01b57cc8fc0",
   "metadata": {},
   "outputs": [],
   "source": [
    "# Here are your ingredients, but feel free to change them!\n",
    "\n",
    "ingredients = [\"flour\", \"eggs\", \"milk\", \"sugar\", \"butter\", \"salt\", \"onions\", \"garlic\", \"tomatoes\", \"cheese\"]\n"
   ]
  },
  {
   "cell_type": "markdown",
   "id": "195cbd0f-d24d-4064-a267-d5cbd7911bb9",
   "metadata": {},
   "source": [
    "---"
   ]
  },
  {
   "cell_type": "markdown",
   "id": "688abe2e-0d68-4a61-aa49-8816988092ec",
   "metadata": {},
   "source": [
    "### TASK: Connect to Bedrock Runtime via Boto3"
   ]
  },
  {
   "cell_type": "code",
   "execution_count": null,
   "id": "668127a1-3678-4f65-bbff-3cffc07741e7",
   "metadata": {},
   "outputs": [],
   "source": []
  },
  {
   "cell_type": "markdown",
   "id": "f95b7bcd-ef37-4f71-86b9-479faf25ffc4",
   "metadata": {},
   "source": [
    "### TASK: Create a prompt that will take the ingredients list and generate a dish and recipe"
   ]
  },
  {
   "cell_type": "code",
   "execution_count": null,
   "id": "b54b92e4-a2b8-4d4a-9a40-e0e8fffb1c9d",
   "metadata": {},
   "outputs": [],
   "source": [
    "def create_dish_prompt(list_of_ingredients):\n",
    "    prompt = f\"\"\n",
    "    return prompt\n"
   ]
  },
  {
   "cell_type": "markdown",
   "id": "4c38077c-4253-479f-b263-9c5270683977",
   "metadata": {},
   "source": [
    "### TASK: Use the LLM to Generate the Dish and Recipe"
   ]
  },
  {
   "cell_type": "code",
   "execution_count": null,
   "id": "937cc6f9-3c11-4b46-88f4-8ca47ddc1395",
   "metadata": {},
   "outputs": [],
   "source": []
  },
  {
   "cell_type": "markdown",
   "id": "8553cef4-ab40-48e8-ade3-0cd3367763b3",
   "metadata": {},
   "source": [
    "**Extract the title**"
   ]
  },
  {
   "cell_type": "code",
   "execution_count": null,
   "id": "610dbd7c-b3dc-4cd4-8a4f-cafaca434978",
   "metadata": {},
   "outputs": [],
   "source": [
    "import re\n",
    "def extract_title(recipe):\n",
    "    return re.findall(\"^.*Recipe Title: .*$\", recipe, re.MULTILINE)[0].strip().split(\"Recipe Title: \")[1]\n"
   ]
  },
  {
   "cell_type": "code",
   "execution_count": null,
   "id": "ad363ae7-5732-4883-b24c-1509c12b5062",
   "metadata": {},
   "outputs": [],
   "source": [
    "content = pass"
   ]
  },
  {
   "cell_type": "code",
   "execution_count": null,
   "id": "5f341d03-0fae-46a3-9b65-38d467e02f63",
   "metadata": {},
   "outputs": [],
   "source": [
    "recipe_title = extract_title(content)"
   ]
  },
  {
   "cell_type": "markdown",
   "id": "25e1d4bb-9139-4305-99f6-0181063cf45d",
   "metadata": {},
   "source": [
    "### TASK: Use Titan Image Generation via Boto3 to generate an Image of the dish"
   ]
  },
  {
   "cell_type": "code",
   "execution_count": null,
   "id": "fd369adb-1339-48da-a98d-f20c065068d5",
   "metadata": {},
   "outputs": [],
   "source": []
  },
  {
   "cell_type": "markdown",
   "id": "3ea3edfb-c977-4fe7-b6fd-808fe7f23647",
   "metadata": {},
   "source": [
    "### TASK: Use Titan Image Generation to Restyle the image to be in the style of a Watercolor Painting"
   ]
  },
  {
   "cell_type": "code",
   "execution_count": null,
   "id": "fbd20249-61af-4b81-a5c7-6340517b9cc8",
   "metadata": {},
   "outputs": [],
   "source": []
  }
 ],
 "metadata": {
  "kernelspec": {
   "display_name": "Python 3 (ipykernel)",
   "language": "python",
   "name": "python3"
  },
  "language_info": {
   "codemirror_mode": {
    "name": "ipython",
    "version": 3
   },
   "file_extension": ".py",
   "mimetype": "text/x-python",
   "name": "python",
   "nbconvert_exporter": "python",
   "pygments_lexer": "ipython3",
   "version": "3.11.0"
  }
 },
 "nbformat": 4,
 "nbformat_minor": 5
}
