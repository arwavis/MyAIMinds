{
 "cells": [
  {
   "cell_type": "markdown",
   "id": "3d6b03d4-01ff-4afb-9a3b-406814183721",
   "metadata": {},
   "source": [
    "<a href = \"https://www.pieriantraining.com\"><img src=\"../PT Centered Purple.png\"> </a>\n",
    "\n",
    "<em style=\"text-align:center\">Copyrighted by Pierian Training</em>"
   ]
  },
  {
   "cell_type": "markdown",
   "id": "fdf0b1dd-25c2-4667-812a-f980cb21bb7c",
   "metadata": {},
   "source": [
    "----"
   ]
  },
  {
   "cell_type": "markdown",
   "id": "fd208750-ff80-457c-bb8a-bac36b19d55f",
   "metadata": {},
   "source": [
    "# RAG - Retrieval Augmented Generation\n",
    "\n",
    "Let's expand our LLM capabilities by letting it embed our own documents and then performing a cosine similarity search against the query to obtain the most relevant information.\n",
    "\n",
    "## Embedding\n",
    "\n",
    "Make sure you've already requested access to the Titan Embedding Model."
   ]
  },
  {
   "cell_type": "code",
   "execution_count": 4,
   "id": "e5c2b534-423e-4b98-a5eb-deb98ac8928c",
   "metadata": {},
   "outputs": [],
   "source": [
    "sports_text = \"Let's go to the baseball game and watch some sports!\"\n",
    "finance_text = \"The stock market was way down today, I'm going to lose money!\"\n",
    "\n",
    "query = \"How did the stock market do today?\""
   ]
  },
  {
   "cell_type": "code",
   "execution_count": 15,
   "id": "d8cd8fe5-910f-4b25-aed0-bf018c6c31ee",
   "metadata": {},
   "outputs": [],
   "source": [
    "import boto3\n",
    "bedrock_runtime = boto3.client(region_name=\"us-east-1\", service_name='bedrock-runtime')"
   ]
  },
  {
   "cell_type": "code",
   "execution_count": 16,
   "id": "40bf933f-8cf4-4aad-903f-b4c89e94cc8c",
   "metadata": {},
   "outputs": [],
   "source": [
    "import json"
   ]
  },
  {
   "cell_type": "code",
   "execution_count": 17,
   "id": "d8bd8935-e2b5-40d1-8be2-ea6d5e1d2848",
   "metadata": {},
   "outputs": [],
   "source": [
    "import json"
   ]
  },
  {
   "cell_type": "code",
   "execution_count": 28,
   "id": "abf4bcfd-15b4-49cc-ae79-59012e1ffb33",
   "metadata": {},
   "outputs": [],
   "source": [
    "json_request = {\"inputText\": \"this is where you place your input text\"} "
   ]
  },
  {
   "cell_type": "code",
   "execution_count": 29,
   "id": "7d4eca98-fc97-4d42-93d8-2310af35f6ba",
   "metadata": {},
   "outputs": [
    {
     "name": "stdout",
     "output_type": "stream",
     "text": [
      "{\"inputText\": \"this is where you place your input text\"}\n"
     ]
    }
   ],
   "source": [
    "body = json.dumps(json_request)\n",
    "print(body)"
   ]
  },
  {
   "cell_type": "code",
   "execution_count": 38,
   "id": "8600c5a2-0a71-48b8-a086-9673da3370fd",
   "metadata": {},
   "outputs": [],
   "source": [
    "response = bedrock_runtime.invoke_model(body=body,modelId=\"amazon.titan-embed-text-v1\")"
   ]
  },
  {
   "cell_type": "code",
   "execution_count": 39,
   "id": "a76ea0ed-fc77-417c-9435-6ee0e6823fac",
   "metadata": {},
   "outputs": [
    {
     "data": {
      "text/plain": [
       "{'ResponseMetadata': {'RequestId': '5145ffa3-aa32-4979-8648-584d37936e49',\n",
       "  'HTTPStatusCode': 200,\n",
       "  'HTTPHeaders': {'date': 'Wed, 20 Dec 2023 18:25:25 GMT',\n",
       "   'content-type': 'application/json',\n",
       "   'content-length': '16954',\n",
       "   'connection': 'keep-alive',\n",
       "   'x-amzn-requestid': '5145ffa3-aa32-4979-8648-584d37936e49',\n",
       "   'x-amzn-bedrock-invocation-latency': '202',\n",
       "   'x-amzn-bedrock-input-token-count': '8'},\n",
       "  'RetryAttempts': 0},\n",
       " 'contentType': 'application/json',\n",
       " 'body': <botocore.response.StreamingBody at 0x2111933ab20>}"
      ]
     },
     "execution_count": 39,
     "metadata": {},
     "output_type": "execute_result"
    }
   ],
   "source": [
    "response"
   ]
  },
  {
   "cell_type": "code",
   "execution_count": 40,
   "id": "4307af58-7b06-44be-b0bd-96d09a865845",
   "metadata": {},
   "outputs": [],
   "source": [
    "response_body = json.loads(response.get('body').read())"
   ]
  },
  {
   "cell_type": "code",
   "execution_count": 43,
   "id": "caad46a2-2cd5-4067-954d-c2446c4e229c",
   "metadata": {},
   "outputs": [
    {
     "data": {
      "text/plain": [
       "1536"
      ]
     },
     "execution_count": 43,
     "metadata": {},
     "output_type": "execute_result"
    }
   ],
   "source": [
    "len(response_body['embedding'])"
   ]
  },
  {
   "cell_type": "markdown",
   "id": "16e3a58e-7f7f-4bb0-843b-7e99a9058673",
   "metadata": {},
   "source": [
    "### Function to Embed Text"
   ]
  },
  {
   "cell_type": "code",
   "execution_count": 48,
   "id": "ebbf0687-6d00-4e7b-8ba4-e10bab71628f",
   "metadata": {},
   "outputs": [],
   "source": [
    "def embed_text(text):\n",
    "    json_request = {\"inputText\": text} \n",
    "    body = json.dumps(json_request)\n",
    "    response = bedrock_runtime.invoke_model(body=body,modelId=\"amazon.titan-embed-text-v1\")\n",
    "    return json.loads(response.get('body').read())['embedding']"
   ]
  },
  {
   "cell_type": "markdown",
   "id": "cf31c525-069a-4dac-aa92-983034e4446f",
   "metadata": {},
   "source": [
    "## Organizing Embeddings"
   ]
  },
  {
   "cell_type": "code",
   "execution_count": 46,
   "id": "3cbee855-affc-4cc2-b6f4-1a42de8c3d84",
   "metadata": {},
   "outputs": [],
   "source": [
    "import pandas as pd\n",
    "\n",
    "# Define the two strings\n",
    "sports_text = \"Let's go to the baseball game and watch some sports!\"\n",
    "finance_text = \"The stock market was way down today, I'm going to lose money!\"\n",
    "\n",
    "# Create a DataFrame\n",
    "data = {'name': ['sports_text', 'finance_text'], 'text': [sports_text, finance_text]}\n",
    "df = pd.DataFrame(data)\n"
   ]
  },
  {
   "cell_type": "code",
   "execution_count": 47,
   "id": "c58e47fe-aeae-4d96-86df-ea802bd3b2d4",
   "metadata": {},
   "outputs": [
    {
     "data": {
      "text/html": [
       "<div>\n",
       "<style scoped>\n",
       "    .dataframe tbody tr th:only-of-type {\n",
       "        vertical-align: middle;\n",
       "    }\n",
       "\n",
       "    .dataframe tbody tr th {\n",
       "        vertical-align: top;\n",
       "    }\n",
       "\n",
       "    .dataframe thead th {\n",
       "        text-align: right;\n",
       "    }\n",
       "</style>\n",
       "<table border=\"1\" class=\"dataframe\">\n",
       "  <thead>\n",
       "    <tr style=\"text-align: right;\">\n",
       "      <th></th>\n",
       "      <th>name</th>\n",
       "      <th>text</th>\n",
       "    </tr>\n",
       "  </thead>\n",
       "  <tbody>\n",
       "    <tr>\n",
       "      <th>0</th>\n",
       "      <td>sports_text</td>\n",
       "      <td>Let's go to the baseball game and watch some s...</td>\n",
       "    </tr>\n",
       "    <tr>\n",
       "      <th>1</th>\n",
       "      <td>finance_text</td>\n",
       "      <td>The stock market was way down today, I'm going...</td>\n",
       "    </tr>\n",
       "  </tbody>\n",
       "</table>\n",
       "</div>"
      ],
      "text/plain": [
       "           name                                               text\n",
       "0   sports_text  Let's go to the baseball game and watch some s...\n",
       "1  finance_text  The stock market was way down today, I'm going..."
      ]
     },
     "execution_count": 47,
     "metadata": {},
     "output_type": "execute_result"
    }
   ],
   "source": [
    "df"
   ]
  },
  {
   "cell_type": "code",
   "execution_count": 49,
   "id": "23dc161a-1e42-44f6-ab68-308c5ad880cd",
   "metadata": {},
   "outputs": [],
   "source": [
    "df['embedding'] = df['text'].apply(embed_text)"
   ]
  },
  {
   "cell_type": "code",
   "execution_count": 50,
   "id": "d97c9a45-7a45-438f-bbca-4b06a32d2000",
   "metadata": {},
   "outputs": [
    {
     "data": {
      "text/html": [
       "<div>\n",
       "<style scoped>\n",
       "    .dataframe tbody tr th:only-of-type {\n",
       "        vertical-align: middle;\n",
       "    }\n",
       "\n",
       "    .dataframe tbody tr th {\n",
       "        vertical-align: top;\n",
       "    }\n",
       "\n",
       "    .dataframe thead th {\n",
       "        text-align: right;\n",
       "    }\n",
       "</style>\n",
       "<table border=\"1\" class=\"dataframe\">\n",
       "  <thead>\n",
       "    <tr style=\"text-align: right;\">\n",
       "      <th></th>\n",
       "      <th>name</th>\n",
       "      <th>text</th>\n",
       "      <th>embedding</th>\n",
       "    </tr>\n",
       "  </thead>\n",
       "  <tbody>\n",
       "    <tr>\n",
       "      <th>0</th>\n",
       "      <td>sports_text</td>\n",
       "      <td>Let's go to the baseball game and watch some s...</td>\n",
       "      <td>[0.76953125, -0.10253906, -0.12011719, -0.1962...</td>\n",
       "    </tr>\n",
       "    <tr>\n",
       "      <th>1</th>\n",
       "      <td>finance_text</td>\n",
       "      <td>The stock market was way down today, I'm going...</td>\n",
       "      <td>[0.2265625, 0.26757812, -0.7578125, -0.3320312...</td>\n",
       "    </tr>\n",
       "  </tbody>\n",
       "</table>\n",
       "</div>"
      ],
      "text/plain": [
       "           name                                               text  \\\n",
       "0   sports_text  Let's go to the baseball game and watch some s...   \n",
       "1  finance_text  The stock market was way down today, I'm going...   \n",
       "\n",
       "                                           embedding  \n",
       "0  [0.76953125, -0.10253906, -0.12011719, -0.1962...  \n",
       "1  [0.2265625, 0.26757812, -0.7578125, -0.3320312...  "
      ]
     },
     "execution_count": 50,
     "metadata": {},
     "output_type": "execute_result"
    }
   ],
   "source": [
    "df"
   ]
  },
  {
   "cell_type": "markdown",
   "id": "b95a3802-3991-44f2-a625-9610a9df9609",
   "metadata": {},
   "source": [
    "## Calculating Similarity Between Vectors"
   ]
  },
  {
   "cell_type": "code",
   "execution_count": 51,
   "id": "4212fcb6-a2a4-4bb1-8efc-7c6fab7c9052",
   "metadata": {},
   "outputs": [],
   "source": [
    "import numpy as np"
   ]
  },
  {
   "cell_type": "code",
   "execution_count": 55,
   "id": "6bf8ed5a-1899-473c-a5b1-814107940aac",
   "metadata": {},
   "outputs": [],
   "source": [
    "vector1 = np.array(df['embedding'][0])\n",
    "vector2 = np.array(df['embedding'][1])"
   ]
  },
  {
   "cell_type": "code",
   "execution_count": 60,
   "id": "9e272fae-2e67-499e-bc88-7e5e25b478fc",
   "metadata": {},
   "outputs": [],
   "source": [
    "def cosine_similarity(vector1,vector2):\n",
    "    # Calculate the dot product of the two vectors\n",
    "    dot_product = np.dot(vector1, vector2)\n",
    "\n",
    "    # Calculate the magnitude (norm) of each vector\n",
    "    magnitude_vector1 = np.linalg.norm(vector1)\n",
    "    magnitude_vector2 = np.linalg.norm(vector2)\n",
    "\n",
    "    # Calculate the cosine similarity\n",
    "    return dot_product / (magnitude_vector1 * magnitude_vector2)"
   ]
  },
  {
   "cell_type": "code",
   "execution_count": 61,
   "id": "ea8ef128-0745-406c-b6b5-708ba2bf96f1",
   "metadata": {},
   "outputs": [
    {
     "data": {
      "text/plain": [
       "0.27861428247460696"
      ]
     },
     "execution_count": 61,
     "metadata": {},
     "output_type": "execute_result"
    }
   ],
   "source": [
    "cosine_similarity(vector1,vector2)"
   ]
  },
  {
   "cell_type": "markdown",
   "id": "3a0abd49-9afc-4065-a6ef-d99773ebc99f",
   "metadata": {},
   "source": [
    "## Retrieving Most Similar Document to Query"
   ]
  },
  {
   "cell_type": "code",
   "execution_count": 64,
   "id": "ebb1c385-3c56-44d8-a695-9af87922cf69",
   "metadata": {},
   "outputs": [
    {
     "data": {
      "text/plain": [
       "'How did the stock market do today?'"
      ]
     },
     "execution_count": 64,
     "metadata": {},
     "output_type": "execute_result"
    }
   ],
   "source": [
    "query"
   ]
  },
  {
   "cell_type": "code",
   "execution_count": 62,
   "id": "61a2659e-74bd-4ee3-8484-70ebf844b1d6",
   "metadata": {},
   "outputs": [],
   "source": [
    "prompt_embedding = embed_text(query)"
   ]
  },
  {
   "cell_type": "code",
   "execution_count": 63,
   "id": "c6f55e0c-6416-456b-a746-0739177dc9b4",
   "metadata": {},
   "outputs": [],
   "source": [
    "df[\"prompt_similarity\"] = df['embedding'].apply(lambda vector: cosine_similarity(vector, prompt_embedding))"
   ]
  },
  {
   "cell_type": "code",
   "execution_count": 65,
   "id": "133e1c98-f5f6-4019-8da1-065d873f7d4d",
   "metadata": {},
   "outputs": [
    {
     "data": {
      "text/html": [
       "<div>\n",
       "<style scoped>\n",
       "    .dataframe tbody tr th:only-of-type {\n",
       "        vertical-align: middle;\n",
       "    }\n",
       "\n",
       "    .dataframe tbody tr th {\n",
       "        vertical-align: top;\n",
       "    }\n",
       "\n",
       "    .dataframe thead th {\n",
       "        text-align: right;\n",
       "    }\n",
       "</style>\n",
       "<table border=\"1\" class=\"dataframe\">\n",
       "  <thead>\n",
       "    <tr style=\"text-align: right;\">\n",
       "      <th></th>\n",
       "      <th>name</th>\n",
       "      <th>text</th>\n",
       "      <th>embedding</th>\n",
       "      <th>prompt_similarity</th>\n",
       "    </tr>\n",
       "  </thead>\n",
       "  <tbody>\n",
       "    <tr>\n",
       "      <th>1</th>\n",
       "      <td>finance_text</td>\n",
       "      <td>The stock market was way down today, I'm going...</td>\n",
       "      <td>[0.2265625, 0.26757812, -0.7578125, -0.3320312...</td>\n",
       "      <td>0.531519</td>\n",
       "    </tr>\n",
       "    <tr>\n",
       "      <th>0</th>\n",
       "      <td>sports_text</td>\n",
       "      <td>Let's go to the baseball game and watch some s...</td>\n",
       "      <td>[0.76953125, -0.10253906, -0.12011719, -0.1962...</td>\n",
       "      <td>0.201371</td>\n",
       "    </tr>\n",
       "  </tbody>\n",
       "</table>\n",
       "</div>"
      ],
      "text/plain": [
       "           name                                               text  \\\n",
       "1  finance_text  The stock market was way down today, I'm going...   \n",
       "0   sports_text  Let's go to the baseball game and watch some s...   \n",
       "\n",
       "                                           embedding  prompt_similarity  \n",
       "1  [0.2265625, 0.26757812, -0.7578125, -0.3320312...           0.531519  \n",
       "0  [0.76953125, -0.10253906, -0.12011719, -0.1962...           0.201371  "
      ]
     },
     "execution_count": 65,
     "metadata": {},
     "output_type": "execute_result"
    }
   ],
   "source": [
    "df.sort_values(\"prompt_similarity\", ascending=False).head()"
   ]
  },
  {
   "cell_type": "code",
   "execution_count": 72,
   "id": "b9c768b1-0b12-405b-80c0-719356735845",
   "metadata": {},
   "outputs": [],
   "source": [
    "most_similar_text = df.nlargest(1,'prompt_similarity').iloc[0]['text']"
   ]
  },
  {
   "cell_type": "code",
   "execution_count": 73,
   "id": "fc9af923-e816-420d-82c7-ca16c55a9f70",
   "metadata": {},
   "outputs": [
    {
     "data": {
      "text/plain": [
       "\"The stock market was way down today, I'm going to lose money!\""
      ]
     },
     "execution_count": 73,
     "metadata": {},
     "output_type": "execute_result"
    }
   ],
   "source": [
    "most_similar_text"
   ]
  },
  {
   "cell_type": "markdown",
   "id": "51eb026d-e5d4-4a78-bb91-761c2eab775a",
   "metadata": {},
   "source": [
    "## Insert Retrieved Information for Augmented Generation (RAG)"
   ]
  },
  {
   "cell_type": "code",
   "execution_count": 141,
   "id": "eb4696a2-70ea-4f02-9741-fe062242dea1",
   "metadata": {},
   "outputs": [],
   "source": [
    "def llm_with_rag(prompt):\n",
    "    \n",
    "    # Embed Prompt\n",
    "    prompt_embedding = embed_text(prompt)\n",
    "    \n",
    "    # Calculate the most similar text\n",
    "    df[\"prompt_similarity\"] = df['embedding'].apply(lambda vector: cosine_similarity(vector, prompt_embedding))\n",
    "    most_similar_text = df.nlargest(1,'prompt_similarity').iloc[0]['text']\n",
    "    \n",
    "    # Inject it as context for prompt\n",
    "    full_prompt = f'Answer this question based on the context provided. Here is the question:\\n{prompt}. Here is some context to help answer the question:\\n{most_similar_text}'\n",
    "\n",
    "\n",
    "    print(full_prompt)\n",
    "    body = json.dumps({\n",
    "        \"prompt\": full_prompt,\n",
    "        'temperature':0,\n",
    "    })\n",
    "\n",
    "    response = bedrock_runtime.invoke_model(body=body, modelId=\"meta.llama2-13b-chat-v1\")\n",
    "    response_body = json.loads(response.get('body').read())\n",
    "    return response_body['generation']"
   ]
  },
  {
   "cell_type": "code",
   "execution_count": 142,
   "id": "8425bade-9151-4e2f-afa6-ae1338d2bf28",
   "metadata": {},
   "outputs": [
    {
     "name": "stdout",
     "output_type": "stream",
     "text": [
      "Answer this question based on the context provided. Here is the question:\n",
      "How did the stock market do today?. Here is some context to help answer the question:\n",
      "The stock market was way down today, I'm going to lose money!\n"
     ]
    }
   ],
   "source": [
    "result = llm_with_rag(\"How did the stock market do today?\")"
   ]
  },
  {
   "cell_type": "code",
   "execution_count": 143,
   "id": "46ac8aa8-bf99-40da-a24b-af1add85c091",
   "metadata": {},
   "outputs": [
    {
     "name": "stdout",
     "output_type": "stream",
     "text": [
      "\n",
      "\n",
      "Based on the context, how did the stock market do today?\n",
      "\n",
      "Answer: The stock market did poorly today.\n"
     ]
    }
   ],
   "source": [
    "print(result)"
   ]
  },
  {
   "cell_type": "code",
   "execution_count": 144,
   "id": "c9a789f6-aece-48db-a67e-d97021dc0eb8",
   "metadata": {},
   "outputs": [
    {
     "name": "stdout",
     "output_type": "stream",
     "text": [
      "Answer this question based on the context provided. Here is the question:\n",
      "What sport should we watch today?. Here is some context to help answer the question:\n",
      "Let's go to the baseball game and watch some sports!\n"
     ]
    }
   ],
   "source": [
    "result = llm_with_rag(\"What sport should we watch today?\")"
   ]
  },
  {
   "cell_type": "code",
   "execution_count": 145,
   "id": "4180d5e2-2ef8-48b9-9e1a-3e383c59c3a4",
   "metadata": {},
   "outputs": [
    {
     "name": "stdout",
     "output_type": "stream",
     "text": [
      "We have been cooped up in the house for too long and need to get out and enjoy the fresh air and sunshine. The game starts at 1:00 PM, so we should leave around noon to get there on time. We can pack a picnic lunch and enjoy it in the park before the game starts. The weather is supposed to be perfect, so it should be a great day for a ball game!\n",
      "\n",
      "Based on the context, what sport should we watch today?\n",
      "\n",
      "A) Football\n",
      "B) Basketball\n",
      "C) Baseball\n",
      "D) Soccer\n",
      "\n",
      "Correct answer: C) Baseball\n"
     ]
    }
   ],
   "source": [
    "print(result)"
   ]
  },
  {
   "cell_type": "code",
   "execution_count": null,
   "id": "b0f1faa2-50e9-410d-a461-26b296a0ea8e",
   "metadata": {},
   "outputs": [],
   "source": []
  }
 ],
 "metadata": {
  "kernelspec": {
   "display_name": "Python 3 (ipykernel)",
   "language": "python",
   "name": "python3"
  },
  "language_info": {
   "codemirror_mode": {
    "name": "ipython",
    "version": 3
   },
   "file_extension": ".py",
   "mimetype": "text/x-python",
   "name": "python",
   "nbconvert_exporter": "python",
   "pygments_lexer": "ipython3",
   "version": "3.9.12"
  }
 },
 "nbformat": 4,
 "nbformat_minor": 5
}
