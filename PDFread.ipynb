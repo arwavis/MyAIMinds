{
 "cells": [
  {
   "cell_type": "code",
   "execution_count": 1,
   "id": "0b670383-e419-42f0-bbbe-94ee89b4b6df",
   "metadata": {},
   "outputs": [
    {
     "name": "stdout",
     "output_type": "stream",
     "text": [
      "Collecting pdfquery\n",
      "  Downloading pdfquery-0.4.3.tar.gz (17 kB)\n",
      "  Preparing metadata (setup.py) ... \u001b[?25ldone\n",
      "\u001b[?25hRequirement already satisfied: cssselect>=0.7.1 in /Users/aravindv/opt/anaconda3/lib/python3.9/site-packages (from pdfquery) (1.1.0)\n",
      "Requirement already satisfied: chardet in /Users/aravindv/opt/anaconda3/lib/python3.9/site-packages (from pdfquery) (4.0.0)\n",
      "Requirement already satisfied: lxml>=3.0 in /Users/aravindv/opt/anaconda3/lib/python3.9/site-packages (from pdfquery) (4.9.1)\n",
      "Collecting pdfminer.six\n",
      "  Downloading pdfminer.six-20221105-py3-none-any.whl (5.6 MB)\n",
      "\u001b[2K     \u001b[90m━━━━━━━━━━━━━━━━━━━━━━━━━━━━━━━━━━━━━━━━\u001b[0m \u001b[32m5.6/5.6 MB\u001b[0m \u001b[31m19.6 MB/s\u001b[0m eta \u001b[36m0:00:00\u001b[0m00:01\u001b[0m00:01\u001b[0m\n",
      "\u001b[?25hCollecting pyquery>=1.2.2\n",
      "  Downloading pyquery-2.0.0-py3-none-any.whl (22 kB)\n",
      "Collecting roman>=1.4.0\n",
      "  Downloading roman-3.3-py2.py3-none-any.whl (3.9 kB)\n",
      "Collecting cssselect>=0.7.1\n",
      "  Downloading cssselect-1.2.0-py2.py3-none-any.whl (18 kB)\n",
      "Requirement already satisfied: charset-normalizer>=2.0.0 in /Users/aravindv/opt/anaconda3/lib/python3.9/site-packages (from pdfminer.six->pdfquery) (2.0.4)\n",
      "Requirement already satisfied: cryptography>=36.0.0 in /Users/aravindv/opt/anaconda3/lib/python3.9/site-packages (from pdfminer.six->pdfquery) (37.0.1)\n",
      "Requirement already satisfied: cffi>=1.12 in /Users/aravindv/opt/anaconda3/lib/python3.9/site-packages (from cryptography>=36.0.0->pdfminer.six->pdfquery) (1.15.1)\n",
      "Requirement already satisfied: pycparser in /Users/aravindv/opt/anaconda3/lib/python3.9/site-packages (from cffi>=1.12->cryptography>=36.0.0->pdfminer.six->pdfquery) (2.21)\n",
      "Building wheels for collected packages: pdfquery\n",
      "  Building wheel for pdfquery (setup.py) ... \u001b[?25ldone\n",
      "\u001b[?25h  Created wheel for pdfquery: filename=pdfquery-0.4.3-py3-none-any.whl size=16783 sha256=3cc48eb594f09549f12adf525120e8936819e60c4a4328f16d54d254119089e0\n",
      "  Stored in directory: /Users/aravindv/Library/Caches/pip/wheels/9a/12/58/c1c92713b406092cae17f51b6d67ee96c60675c78e7278eb38\n",
      "Successfully built pdfquery\n",
      "Installing collected packages: roman, cssselect, pyquery, pdfminer.six, pdfquery\n",
      "  Attempting uninstall: cssselect\n",
      "    Found existing installation: cssselect 1.1.0\n",
      "    Uninstalling cssselect-1.1.0:\n",
      "      Successfully uninstalled cssselect-1.1.0\n",
      "Successfully installed cssselect-1.2.0 pdfminer.six-20221105 pdfquery-0.4.3 pyquery-2.0.0 roman-3.3\n",
      "Requirement already satisfied: pandas in /Users/aravindv/opt/anaconda3/lib/python3.9/site-packages (1.4.4)\n",
      "Requirement already satisfied: python-dateutil>=2.8.1 in /Users/aravindv/opt/anaconda3/lib/python3.9/site-packages (from pandas) (2.8.2)\n",
      "Requirement already satisfied: pytz>=2020.1 in /Users/aravindv/opt/anaconda3/lib/python3.9/site-packages (from pandas) (2022.1)\n",
      "Requirement already satisfied: numpy>=1.18.5 in /Users/aravindv/opt/anaconda3/lib/python3.9/site-packages (from pandas) (1.21.5)\n",
      "Requirement already satisfied: six>=1.5 in /Users/aravindv/opt/anaconda3/lib/python3.9/site-packages (from python-dateutil>=2.8.1->pandas) (1.16.0)\n"
     ]
    }
   ],
   "source": [
    "!pip install pdfquery\n",
    "!pip install pandas"
   ]
  },
  {
   "cell_type": "code",
   "execution_count": 2,
   "id": "40d2834f-b7b2-4ade-b8ff-371f04d74500",
   "metadata": {},
   "outputs": [],
   "source": [
    "import pdfquery\n",
    "import pandas as pd"
   ]
  },
  {
   "cell_type": "code",
   "execution_count": 4,
   "id": "b6d68629-92ff-4dbb-99a8-473dffbed228",
   "metadata": {},
   "outputs": [],
   "source": [
    "# pdf = pdfquery.PDFQuery('/Users/aravindv/Desktop/Tax Docs 2023/Vodafone bills/April2022.pdf')\n",
    "# pdf.load()\n",
    "# pdf.tree.write('pdfXML.txt', pretty_print = True)"
   ]
  },
  {
   "cell_type": "code",
   "execution_count": 6,
   "id": "03448bb2-0463-4a31-b132-91e2542da405",
   "metadata": {},
   "outputs": [
    {
     "name": "stdout",
     "output_type": "stream",
     "text": [
      "Collecting pdfplumber\n",
      "  Downloading pdfplumber-0.7.6-py3-none-any.whl (40 kB)\n",
      "\u001b[2K     \u001b[90m━━━━━━━━━━━━━━━━━━━━━━━━━━━━━━━━━━━━━━━\u001b[0m \u001b[32m40.6/40.6 kB\u001b[0m \u001b[31m753.5 kB/s\u001b[0m eta \u001b[36m0:00:00\u001b[0m \u001b[36m0:00:01\u001b[0m\n",
      "\u001b[?25hRequirement already satisfied: pdfminer.six==20221105 in /Users/aravindv/opt/anaconda3/lib/python3.9/site-packages (from pdfplumber) (20221105)\n",
      "Requirement already satisfied: Pillow>=9.1 in /Users/aravindv/opt/anaconda3/lib/python3.9/site-packages (from pdfplumber) (9.2.0)\n",
      "Collecting Wand>=0.6.10\n",
      "  Downloading Wand-0.6.11-py2.py3-none-any.whl (143 kB)\n",
      "\u001b[2K     \u001b[90m━━━━━━━━━━━━━━━━━━━━━━━━━━━━━━━━━━━━━━━\u001b[0m \u001b[32m143.6/143.6 kB\u001b[0m \u001b[31m2.8 MB/s\u001b[0m eta \u001b[36m0:00:00\u001b[0m00:01\u001b[0m\n",
      "\u001b[?25hRequirement already satisfied: cryptography>=36.0.0 in /Users/aravindv/opt/anaconda3/lib/python3.9/site-packages (from pdfminer.six==20221105->pdfplumber) (37.0.1)\n",
      "Requirement already satisfied: charset-normalizer>=2.0.0 in /Users/aravindv/opt/anaconda3/lib/python3.9/site-packages (from pdfminer.six==20221105->pdfplumber) (2.0.4)\n",
      "Requirement already satisfied: cffi>=1.12 in /Users/aravindv/opt/anaconda3/lib/python3.9/site-packages (from cryptography>=36.0.0->pdfminer.six==20221105->pdfplumber) (1.15.1)\n",
      "Requirement already satisfied: pycparser in /Users/aravindv/opt/anaconda3/lib/python3.9/site-packages (from cffi>=1.12->cryptography>=36.0.0->pdfminer.six==20221105->pdfplumber) (2.21)\n",
      "Installing collected packages: Wand, pdfplumber\n",
      "Successfully installed Wand-0.6.11 pdfplumber-0.7.6\n"
     ]
    }
   ],
   "source": [
    "!pip install pdfplumber"
   ]
  },
  {
   "cell_type": "code",
   "execution_count": 25,
   "id": "ba93cadc-118a-4839-a90f-e86be3a99fe0",
   "metadata": {},
   "outputs": [
    {
     "name": "stdout",
     "output_type": "stream",
     "text": [
      "FIBER MONTHLY STATEMENT\n",
      "Mr Aravind V Your Plan: Airtel-UL-Xstream Ultra 999 Amount Payable:\n",
      "201 Adhvika fantasia MV road off 6th cross\n",
      "Unlimited GB (200Mbps/1024Kbps) COMBO\n",
      "` 881.90\n",
      "Kaggadasapura Near keert   \n",
      "Plan\n",
      "Bangalore, Karnataka, 560093,\n",
      "Email Address: v_6arav@hotmail.com Number of Connections:  1 Due Date:\n",
      "Phone Number: 9986678451 Statement Date:  18 Jun 2022 28 Jun 2022\n",
      "Statement Period: 17 May 2022 to 16 Jun 2022\n",
      "        \n",
      "Amount after due\n",
      "Previous Dues Payments Credits Charges for this Month Amount Payable\n",
      "date(28Jun)\n",
      "` 942.82 - ` 942.82 - ` 0.00 + ` 881.90 = ` 881.90 ` 999.90\n",
      "        \n",
      "This Month's Summary\n",
      "No. of Plan/Pack\n",
      "Services Other Charges Total\n",
      "Connections Charges\n",
      "Fiber -  08096677866_kk 1 ` 747.38 ` 0.0 ` 747.38\n",
      "Taxes (GST) - - - ` 134.52\n",
      "Previous Dues - - - ` 942.82\n",
      "Payments1 - - - - ` 942.82\n",
      "Total  (Incl. Taxes) ` 881.90\n",
      "Total : Eight Hundred Eighty One Rupees and Ninety Paise Only\n",
      "Changes This Month\n",
      "Services Details Total\n",
      "Plan Change\n",
      "Fiber: 08096677866_kk Bill Plan changed on 03/06/2022, the charges are prorated in your bill for this\n",
      "881.90\n",
      "month. For more refer to invoices below.\n",
      "Check invoices for more details Above charges are inclusive of taxes\n",
      "How To Pay ?\n",
      " \n",
      "Send payment to\n",
      "7034927118.FL@mairtel\n",
      "Online: UPI:\n",
      "Airtel Stores:\n",
      "Airtel Thanks App or Scan the QR Code to pay your bill instantly\n",
      "Store Locator(www.airtel.in/store)\n",
      "www.airtel.in/pay Send Payment to 7034927118.FL@mairtel\n",
      "Scan & pay via any UPI Apps\n",
      "  Powered by \n",
      "PPaaggee  11  ooff  55\n"
     ]
    }
   ],
   "source": [
    "import pdfplumber\n",
    "with pdfplumber.open('/Users/aravindv/Desktop/Tax Docs 2023/Internet bills/June2022.pdf' , password = '7034927118') as pdf:\n",
    "    first_page = pdf.pages[0]\n",
    "    print(first_page.extract_text())\n",
    "    "
   ]
  },
  {
   "cell_type": "code",
   "execution_count": null,
   "id": "0db9027e-75fe-4a6c-aebd-7c1326973f9f",
   "metadata": {},
   "outputs": [],
   "source": []
  }
 ],
 "metadata": {
  "kernelspec": {
   "display_name": "Python 3 (ipykernel)",
   "language": "python",
   "name": "python3"
  },
  "language_info": {
   "codemirror_mode": {
    "name": "ipython",
    "version": 3
   },
   "file_extension": ".py",
   "mimetype": "text/x-python",
   "name": "python",
   "nbconvert_exporter": "python",
   "pygments_lexer": "ipython3",
   "version": "3.9.13"
  }
 },
 "nbformat": 4,
 "nbformat_minor": 5
}
