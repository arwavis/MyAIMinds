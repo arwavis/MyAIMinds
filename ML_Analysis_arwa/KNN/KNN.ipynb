{
 "cells": [
  {
   "cell_type": "markdown",
   "id": "2512956b-f3c2-4161-8b15-887433211aab",
   "metadata": {},
   "source": [
    "# Import Librarires"
   ]
  },
  {
   "cell_type": "code",
   "execution_count": 121,
   "id": "72dad5af-e542-4604-b5a4-888eb065c725",
   "metadata": {},
   "outputs": [],
   "source": [
    "import pandas as pd\n",
    "import numpy as np\n",
    "import seaborn as sns\n",
    "import matplotlib.pyplot as plt"
   ]
  },
  {
   "cell_type": "markdown",
   "id": "017e7f64-9ec9-4956-b19f-275a1cad47b3",
   "metadata": {},
   "source": [
    "# Import Dataset"
   ]
  },
  {
   "cell_type": "code",
   "execution_count": 122,
   "id": "1e0ff218-c646-4224-b849-4769da8310bb",
   "metadata": {},
   "outputs": [],
   "source": [
    "df = pd.read_csv(\"survey lung cancer.csv\")"
   ]
  },
  {
   "cell_type": "code",
   "execution_count": 123,
   "id": "96c2ac62-1a8b-4fb8-87f4-6068eeaac97b",
   "metadata": {},
   "outputs": [
    {
     "data": {
      "text/html": [
       "<div>\n",
       "<style scoped>\n",
       "    .dataframe tbody tr th:only-of-type {\n",
       "        vertical-align: middle;\n",
       "    }\n",
       "\n",
       "    .dataframe tbody tr th {\n",
       "        vertical-align: top;\n",
       "    }\n",
       "\n",
       "    .dataframe thead th {\n",
       "        text-align: right;\n",
       "    }\n",
       "</style>\n",
       "<table border=\"1\" class=\"dataframe\">\n",
       "  <thead>\n",
       "    <tr style=\"text-align: right;\">\n",
       "      <th></th>\n",
       "      <th>GENDER</th>\n",
       "      <th>AGE</th>\n",
       "      <th>SMOKING</th>\n",
       "      <th>YELLOW_FINGERS</th>\n",
       "      <th>ANXIETY</th>\n",
       "      <th>PEER_PRESSURE</th>\n",
       "      <th>CHRONIC DISEASE</th>\n",
       "      <th>FATIGUE</th>\n",
       "      <th>ALLERGY</th>\n",
       "      <th>WHEEZING</th>\n",
       "      <th>ALCOHOL CONSUMING</th>\n",
       "      <th>COUGHING</th>\n",
       "      <th>SHORTNESS OF BREATH</th>\n",
       "      <th>SWALLOWING DIFFICULTY</th>\n",
       "      <th>CHEST PAIN</th>\n",
       "      <th>LUNG_CANCER</th>\n",
       "    </tr>\n",
       "  </thead>\n",
       "  <tbody>\n",
       "    <tr>\n",
       "      <th>0</th>\n",
       "      <td>M</td>\n",
       "      <td>69</td>\n",
       "      <td>1</td>\n",
       "      <td>2</td>\n",
       "      <td>2</td>\n",
       "      <td>1</td>\n",
       "      <td>1</td>\n",
       "      <td>2</td>\n",
       "      <td>1</td>\n",
       "      <td>2</td>\n",
       "      <td>2</td>\n",
       "      <td>2</td>\n",
       "      <td>2</td>\n",
       "      <td>2</td>\n",
       "      <td>2</td>\n",
       "      <td>YES</td>\n",
       "    </tr>\n",
       "    <tr>\n",
       "      <th>1</th>\n",
       "      <td>M</td>\n",
       "      <td>74</td>\n",
       "      <td>2</td>\n",
       "      <td>1</td>\n",
       "      <td>1</td>\n",
       "      <td>1</td>\n",
       "      <td>2</td>\n",
       "      <td>2</td>\n",
       "      <td>2</td>\n",
       "      <td>1</td>\n",
       "      <td>1</td>\n",
       "      <td>1</td>\n",
       "      <td>2</td>\n",
       "      <td>2</td>\n",
       "      <td>2</td>\n",
       "      <td>YES</td>\n",
       "    </tr>\n",
       "    <tr>\n",
       "      <th>2</th>\n",
       "      <td>F</td>\n",
       "      <td>59</td>\n",
       "      <td>1</td>\n",
       "      <td>1</td>\n",
       "      <td>1</td>\n",
       "      <td>2</td>\n",
       "      <td>1</td>\n",
       "      <td>2</td>\n",
       "      <td>1</td>\n",
       "      <td>2</td>\n",
       "      <td>1</td>\n",
       "      <td>2</td>\n",
       "      <td>2</td>\n",
       "      <td>1</td>\n",
       "      <td>2</td>\n",
       "      <td>NO</td>\n",
       "    </tr>\n",
       "    <tr>\n",
       "      <th>3</th>\n",
       "      <td>M</td>\n",
       "      <td>63</td>\n",
       "      <td>2</td>\n",
       "      <td>2</td>\n",
       "      <td>2</td>\n",
       "      <td>1</td>\n",
       "      <td>1</td>\n",
       "      <td>1</td>\n",
       "      <td>1</td>\n",
       "      <td>1</td>\n",
       "      <td>2</td>\n",
       "      <td>1</td>\n",
       "      <td>1</td>\n",
       "      <td>2</td>\n",
       "      <td>2</td>\n",
       "      <td>NO</td>\n",
       "    </tr>\n",
       "    <tr>\n",
       "      <th>4</th>\n",
       "      <td>F</td>\n",
       "      <td>63</td>\n",
       "      <td>1</td>\n",
       "      <td>2</td>\n",
       "      <td>1</td>\n",
       "      <td>1</td>\n",
       "      <td>1</td>\n",
       "      <td>1</td>\n",
       "      <td>1</td>\n",
       "      <td>2</td>\n",
       "      <td>1</td>\n",
       "      <td>2</td>\n",
       "      <td>2</td>\n",
       "      <td>1</td>\n",
       "      <td>1</td>\n",
       "      <td>NO</td>\n",
       "    </tr>\n",
       "  </tbody>\n",
       "</table>\n",
       "</div>"
      ],
      "text/plain": [
       "  GENDER  AGE  SMOKING  YELLOW_FINGERS  ANXIETY  PEER_PRESSURE  \\\n",
       "0      M   69        1               2        2              1   \n",
       "1      M   74        2               1        1              1   \n",
       "2      F   59        1               1        1              2   \n",
       "3      M   63        2               2        2              1   \n",
       "4      F   63        1               2        1              1   \n",
       "\n",
       "   CHRONIC DISEASE  FATIGUE   ALLERGY   WHEEZING  ALCOHOL CONSUMING  COUGHING  \\\n",
       "0                1         2         1         2                  2         2   \n",
       "1                2         2         2         1                  1         1   \n",
       "2                1         2         1         2                  1         2   \n",
       "3                1         1         1         1                  2         1   \n",
       "4                1         1         1         2                  1         2   \n",
       "\n",
       "   SHORTNESS OF BREATH  SWALLOWING DIFFICULTY  CHEST PAIN LUNG_CANCER  \n",
       "0                    2                      2           2         YES  \n",
       "1                    2                      2           2         YES  \n",
       "2                    2                      1           2          NO  \n",
       "3                    1                      2           2          NO  \n",
       "4                    2                      1           1          NO  "
      ]
     },
     "execution_count": 123,
     "metadata": {},
     "output_type": "execute_result"
    }
   ],
   "source": [
    "df.head()"
   ]
  },
  {
   "cell_type": "markdown",
   "id": "71ff2afa-e72e-45bc-9c7a-35bbdc77e115",
   "metadata": {},
   "source": [
    "# Data Analysis\n",
    "\n",
    "GENDER: M(male), F(female) AGE: Age of the patient SMOKING: YES=2 , NO=1. YELLOW_FINGERS: YES=2 , NO=1. ANXIETY: YES=2 , NO=1. PEER_PRESSURE : YES=2 , NO=1. CHRONIC DISEASE: YES=2 , NO=1. FATIGUE : YES=2 , NO=1. ALLERGY: YES=2 , NO=1. WHEEZING: YES=2 , NO=1. ALCOHOL CONSUMING: YES=2 , NO=1. COUGHING: YES=2 , NO=1. SHORTNESS OF BREATH: YES=2 , NO=1. SWALLOWING DIFFICULTY:YES=2 , NO=1. CHEST PAIN:YES=2 , NO=1. LUNG_CANCER:YES=2 , NO=1.\n"
   ]
  },
  {
   "cell_type": "code",
   "execution_count": 124,
   "id": "b124bc33-0e8a-4a3e-9873-932dba216558",
   "metadata": {},
   "outputs": [
    {
     "name": "stdout",
     "output_type": "stream",
     "text": [
      "<class 'pandas.core.frame.DataFrame'>\n",
      "RangeIndex: 309 entries, 0 to 308\n",
      "Data columns (total 16 columns):\n",
      " #   Column                 Non-Null Count  Dtype \n",
      "---  ------                 --------------  ----- \n",
      " 0   GENDER                 309 non-null    object\n",
      " 1   AGE                    309 non-null    int64 \n",
      " 2   SMOKING                309 non-null    int64 \n",
      " 3   YELLOW_FINGERS         309 non-null    int64 \n",
      " 4   ANXIETY                309 non-null    int64 \n",
      " 5   PEER_PRESSURE          309 non-null    int64 \n",
      " 6   CHRONIC DISEASE        309 non-null    int64 \n",
      " 7   FATIGUE                309 non-null    int64 \n",
      " 8   ALLERGY                309 non-null    int64 \n",
      " 9   WHEEZING               309 non-null    int64 \n",
      " 10  ALCOHOL CONSUMING      309 non-null    int64 \n",
      " 11  COUGHING               309 non-null    int64 \n",
      " 12  SHORTNESS OF BREATH    309 non-null    int64 \n",
      " 13  SWALLOWING DIFFICULTY  309 non-null    int64 \n",
      " 14  CHEST PAIN             309 non-null    int64 \n",
      " 15  LUNG_CANCER            309 non-null    object\n",
      "dtypes: int64(14), object(2)\n",
      "memory usage: 38.8+ KB\n"
     ]
    }
   ],
   "source": [
    "df.info()"
   ]
  },
  {
   "cell_type": "code",
   "execution_count": 125,
   "id": "f6f031e0-a7e8-4d80-982a-4ea5b5278422",
   "metadata": {},
   "outputs": [
    {
     "data": {
      "text/plain": [
       "GENDER                   0\n",
       "AGE                      0\n",
       "SMOKING                  0\n",
       "YELLOW_FINGERS           0\n",
       "ANXIETY                  0\n",
       "PEER_PRESSURE            0\n",
       "CHRONIC DISEASE          0\n",
       "FATIGUE                  0\n",
       "ALLERGY                  0\n",
       "WHEEZING                 0\n",
       "ALCOHOL CONSUMING        0\n",
       "COUGHING                 0\n",
       "SHORTNESS OF BREATH      0\n",
       "SWALLOWING DIFFICULTY    0\n",
       "CHEST PAIN               0\n",
       "LUNG_CANCER              0\n",
       "dtype: int64"
      ]
     },
     "execution_count": 125,
     "metadata": {},
     "output_type": "execute_result"
    }
   ],
   "source": [
    "df.isnull().sum()"
   ]
  },
  {
   "cell_type": "markdown",
   "id": "9e0e4da0-ae7b-436a-8584-fdd46a69e574",
   "metadata": {},
   "source": [
    "# Data Processing"
   ]
  },
  {
   "cell_type": "markdown",
   "id": "0fd4badf-8ac9-4682-85a5-b5490845eaaf",
   "metadata": {},
   "source": [
    "## Converting categorical variables of the dataset into numerical variables - using ONE HOT ENCODING technique"
   ]
  },
  {
   "cell_type": "code",
   "execution_count": 126,
   "id": "8ae09745-b8c2-4349-bc09-f6e30b036e6f",
   "metadata": {},
   "outputs": [
    {
     "data": {
      "text/plain": [
       "array(['M', 'F'], dtype=object)"
      ]
     },
     "execution_count": 126,
     "metadata": {},
     "output_type": "execute_result"
    }
   ],
   "source": [
    "df.GENDER.unique()"
   ]
  },
  {
   "cell_type": "code",
   "execution_count": 127,
   "id": "cbf641bb-c945-4792-93d3-35d362bb7de0",
   "metadata": {},
   "outputs": [
    {
     "data": {
      "text/plain": [
       "array(['YES', 'NO'], dtype=object)"
      ]
     },
     "execution_count": 127,
     "metadata": {},
     "output_type": "execute_result"
    }
   ],
   "source": [
    "df.LUNG_CANCER.unique()"
   ]
  },
  {
   "cell_type": "code",
   "execution_count": 128,
   "id": "6990e7ad-f294-44e2-bbbf-3318f18ef5dc",
   "metadata": {},
   "outputs": [],
   "source": [
    "df['GENDER']= df['GENDER'].apply({'M':1, 'F':0}.get)"
   ]
  },
  {
   "cell_type": "code",
   "execution_count": 129,
   "id": "a4cff05f-9e20-4f6b-ad96-805d496b1754",
   "metadata": {},
   "outputs": [],
   "source": [
    "df['LUNG_CANCER']= df['LUNG_CANCER'].apply({'YES':1, 'NO':0}.get)"
   ]
  },
  {
   "cell_type": "code",
   "execution_count": 130,
   "id": "6eed5d49-57ea-4c2a-9924-01ebe4d41669",
   "metadata": {},
   "outputs": [
    {
     "data": {
      "text/html": [
       "<div>\n",
       "<style scoped>\n",
       "    .dataframe tbody tr th:only-of-type {\n",
       "        vertical-align: middle;\n",
       "    }\n",
       "\n",
       "    .dataframe tbody tr th {\n",
       "        vertical-align: top;\n",
       "    }\n",
       "\n",
       "    .dataframe thead th {\n",
       "        text-align: right;\n",
       "    }\n",
       "</style>\n",
       "<table border=\"1\" class=\"dataframe\">\n",
       "  <thead>\n",
       "    <tr style=\"text-align: right;\">\n",
       "      <th></th>\n",
       "      <th>GENDER</th>\n",
       "      <th>AGE</th>\n",
       "      <th>SMOKING</th>\n",
       "      <th>YELLOW_FINGERS</th>\n",
       "      <th>ANXIETY</th>\n",
       "      <th>PEER_PRESSURE</th>\n",
       "      <th>CHRONIC DISEASE</th>\n",
       "      <th>FATIGUE</th>\n",
       "      <th>ALLERGY</th>\n",
       "      <th>WHEEZING</th>\n",
       "      <th>ALCOHOL CONSUMING</th>\n",
       "      <th>COUGHING</th>\n",
       "      <th>SHORTNESS OF BREATH</th>\n",
       "      <th>SWALLOWING DIFFICULTY</th>\n",
       "      <th>CHEST PAIN</th>\n",
       "      <th>LUNG_CANCER</th>\n",
       "    </tr>\n",
       "  </thead>\n",
       "  <tbody>\n",
       "    <tr>\n",
       "      <th>0</th>\n",
       "      <td>1</td>\n",
       "      <td>69</td>\n",
       "      <td>1</td>\n",
       "      <td>2</td>\n",
       "      <td>2</td>\n",
       "      <td>1</td>\n",
       "      <td>1</td>\n",
       "      <td>2</td>\n",
       "      <td>1</td>\n",
       "      <td>2</td>\n",
       "      <td>2</td>\n",
       "      <td>2</td>\n",
       "      <td>2</td>\n",
       "      <td>2</td>\n",
       "      <td>2</td>\n",
       "      <td>1</td>\n",
       "    </tr>\n",
       "    <tr>\n",
       "      <th>1</th>\n",
       "      <td>1</td>\n",
       "      <td>74</td>\n",
       "      <td>2</td>\n",
       "      <td>1</td>\n",
       "      <td>1</td>\n",
       "      <td>1</td>\n",
       "      <td>2</td>\n",
       "      <td>2</td>\n",
       "      <td>2</td>\n",
       "      <td>1</td>\n",
       "      <td>1</td>\n",
       "      <td>1</td>\n",
       "      <td>2</td>\n",
       "      <td>2</td>\n",
       "      <td>2</td>\n",
       "      <td>1</td>\n",
       "    </tr>\n",
       "    <tr>\n",
       "      <th>2</th>\n",
       "      <td>0</td>\n",
       "      <td>59</td>\n",
       "      <td>1</td>\n",
       "      <td>1</td>\n",
       "      <td>1</td>\n",
       "      <td>2</td>\n",
       "      <td>1</td>\n",
       "      <td>2</td>\n",
       "      <td>1</td>\n",
       "      <td>2</td>\n",
       "      <td>1</td>\n",
       "      <td>2</td>\n",
       "      <td>2</td>\n",
       "      <td>1</td>\n",
       "      <td>2</td>\n",
       "      <td>0</td>\n",
       "    </tr>\n",
       "    <tr>\n",
       "      <th>3</th>\n",
       "      <td>1</td>\n",
       "      <td>63</td>\n",
       "      <td>2</td>\n",
       "      <td>2</td>\n",
       "      <td>2</td>\n",
       "      <td>1</td>\n",
       "      <td>1</td>\n",
       "      <td>1</td>\n",
       "      <td>1</td>\n",
       "      <td>1</td>\n",
       "      <td>2</td>\n",
       "      <td>1</td>\n",
       "      <td>1</td>\n",
       "      <td>2</td>\n",
       "      <td>2</td>\n",
       "      <td>0</td>\n",
       "    </tr>\n",
       "    <tr>\n",
       "      <th>4</th>\n",
       "      <td>0</td>\n",
       "      <td>63</td>\n",
       "      <td>1</td>\n",
       "      <td>2</td>\n",
       "      <td>1</td>\n",
       "      <td>1</td>\n",
       "      <td>1</td>\n",
       "      <td>1</td>\n",
       "      <td>1</td>\n",
       "      <td>2</td>\n",
       "      <td>1</td>\n",
       "      <td>2</td>\n",
       "      <td>2</td>\n",
       "      <td>1</td>\n",
       "      <td>1</td>\n",
       "      <td>0</td>\n",
       "    </tr>\n",
       "  </tbody>\n",
       "</table>\n",
       "</div>"
      ],
      "text/plain": [
       "   GENDER  AGE  SMOKING  YELLOW_FINGERS  ANXIETY  PEER_PRESSURE  \\\n",
       "0       1   69        1               2        2              1   \n",
       "1       1   74        2               1        1              1   \n",
       "2       0   59        1               1        1              2   \n",
       "3       1   63        2               2        2              1   \n",
       "4       0   63        1               2        1              1   \n",
       "\n",
       "   CHRONIC DISEASE  FATIGUE   ALLERGY   WHEEZING  ALCOHOL CONSUMING  COUGHING  \\\n",
       "0                1         2         1         2                  2         2   \n",
       "1                2         2         2         1                  1         1   \n",
       "2                1         2         1         2                  1         2   \n",
       "3                1         1         1         1                  2         1   \n",
       "4                1         1         1         2                  1         2   \n",
       "\n",
       "   SHORTNESS OF BREATH  SWALLOWING DIFFICULTY  CHEST PAIN  LUNG_CANCER  \n",
       "0                    2                      2           2            1  \n",
       "1                    2                      2           2            1  \n",
       "2                    2                      1           2            0  \n",
       "3                    1                      2           2            0  \n",
       "4                    2                      1           1            0  "
      ]
     },
     "execution_count": 130,
     "metadata": {},
     "output_type": "execute_result"
    }
   ],
   "source": [
    "df.head()"
   ]
  },
  {
   "cell_type": "code",
   "execution_count": 131,
   "id": "c0b78d65-b9d9-4a16-a4c2-bdf4797441cd",
   "metadata": {},
   "outputs": [
    {
     "data": {
      "text/html": [
       "<div>\n",
       "<style scoped>\n",
       "    .dataframe tbody tr th:only-of-type {\n",
       "        vertical-align: middle;\n",
       "    }\n",
       "\n",
       "    .dataframe tbody tr th {\n",
       "        vertical-align: top;\n",
       "    }\n",
       "\n",
       "    .dataframe thead th {\n",
       "        text-align: right;\n",
       "    }\n",
       "</style>\n",
       "<table border=\"1\" class=\"dataframe\">\n",
       "  <thead>\n",
       "    <tr style=\"text-align: right;\">\n",
       "      <th></th>\n",
       "      <th>GENDER</th>\n",
       "      <th>AGE</th>\n",
       "      <th>SMOKING</th>\n",
       "      <th>YELLOW_FINGERS</th>\n",
       "      <th>ANXIETY</th>\n",
       "      <th>PEER_PRESSURE</th>\n",
       "      <th>CHRONIC DISEASE</th>\n",
       "      <th>FATIGUE</th>\n",
       "      <th>ALLERGY</th>\n",
       "      <th>WHEEZING</th>\n",
       "      <th>ALCOHOL CONSUMING</th>\n",
       "      <th>COUGHING</th>\n",
       "      <th>SHORTNESS OF BREATH</th>\n",
       "      <th>SWALLOWING DIFFICULTY</th>\n",
       "      <th>CHEST PAIN</th>\n",
       "      <th>LUNG_CANCER</th>\n",
       "    </tr>\n",
       "  </thead>\n",
       "  <tbody>\n",
       "    <tr>\n",
       "      <th>count</th>\n",
       "      <td>309.000000</td>\n",
       "      <td>309.000000</td>\n",
       "      <td>309.000000</td>\n",
       "      <td>309.000000</td>\n",
       "      <td>309.000000</td>\n",
       "      <td>309.000000</td>\n",
       "      <td>309.000000</td>\n",
       "      <td>309.000000</td>\n",
       "      <td>309.000000</td>\n",
       "      <td>309.000000</td>\n",
       "      <td>309.000000</td>\n",
       "      <td>309.000000</td>\n",
       "      <td>309.000000</td>\n",
       "      <td>309.000000</td>\n",
       "      <td>309.000000</td>\n",
       "      <td>309.000000</td>\n",
       "    </tr>\n",
       "    <tr>\n",
       "      <th>mean</th>\n",
       "      <td>0.524272</td>\n",
       "      <td>62.673139</td>\n",
       "      <td>1.563107</td>\n",
       "      <td>1.569579</td>\n",
       "      <td>1.498382</td>\n",
       "      <td>1.501618</td>\n",
       "      <td>1.504854</td>\n",
       "      <td>1.673139</td>\n",
       "      <td>1.556634</td>\n",
       "      <td>1.556634</td>\n",
       "      <td>1.556634</td>\n",
       "      <td>1.579288</td>\n",
       "      <td>1.640777</td>\n",
       "      <td>1.469256</td>\n",
       "      <td>1.556634</td>\n",
       "      <td>0.873786</td>\n",
       "    </tr>\n",
       "    <tr>\n",
       "      <th>std</th>\n",
       "      <td>0.500221</td>\n",
       "      <td>8.210301</td>\n",
       "      <td>0.496806</td>\n",
       "      <td>0.495938</td>\n",
       "      <td>0.500808</td>\n",
       "      <td>0.500808</td>\n",
       "      <td>0.500787</td>\n",
       "      <td>0.469827</td>\n",
       "      <td>0.497588</td>\n",
       "      <td>0.497588</td>\n",
       "      <td>0.497588</td>\n",
       "      <td>0.494474</td>\n",
       "      <td>0.480551</td>\n",
       "      <td>0.499863</td>\n",
       "      <td>0.497588</td>\n",
       "      <td>0.332629</td>\n",
       "    </tr>\n",
       "    <tr>\n",
       "      <th>min</th>\n",
       "      <td>0.000000</td>\n",
       "      <td>21.000000</td>\n",
       "      <td>1.000000</td>\n",
       "      <td>1.000000</td>\n",
       "      <td>1.000000</td>\n",
       "      <td>1.000000</td>\n",
       "      <td>1.000000</td>\n",
       "      <td>1.000000</td>\n",
       "      <td>1.000000</td>\n",
       "      <td>1.000000</td>\n",
       "      <td>1.000000</td>\n",
       "      <td>1.000000</td>\n",
       "      <td>1.000000</td>\n",
       "      <td>1.000000</td>\n",
       "      <td>1.000000</td>\n",
       "      <td>0.000000</td>\n",
       "    </tr>\n",
       "    <tr>\n",
       "      <th>25%</th>\n",
       "      <td>0.000000</td>\n",
       "      <td>57.000000</td>\n",
       "      <td>1.000000</td>\n",
       "      <td>1.000000</td>\n",
       "      <td>1.000000</td>\n",
       "      <td>1.000000</td>\n",
       "      <td>1.000000</td>\n",
       "      <td>1.000000</td>\n",
       "      <td>1.000000</td>\n",
       "      <td>1.000000</td>\n",
       "      <td>1.000000</td>\n",
       "      <td>1.000000</td>\n",
       "      <td>1.000000</td>\n",
       "      <td>1.000000</td>\n",
       "      <td>1.000000</td>\n",
       "      <td>1.000000</td>\n",
       "    </tr>\n",
       "    <tr>\n",
       "      <th>50%</th>\n",
       "      <td>1.000000</td>\n",
       "      <td>62.000000</td>\n",
       "      <td>2.000000</td>\n",
       "      <td>2.000000</td>\n",
       "      <td>1.000000</td>\n",
       "      <td>2.000000</td>\n",
       "      <td>2.000000</td>\n",
       "      <td>2.000000</td>\n",
       "      <td>2.000000</td>\n",
       "      <td>2.000000</td>\n",
       "      <td>2.000000</td>\n",
       "      <td>2.000000</td>\n",
       "      <td>2.000000</td>\n",
       "      <td>1.000000</td>\n",
       "      <td>2.000000</td>\n",
       "      <td>1.000000</td>\n",
       "    </tr>\n",
       "    <tr>\n",
       "      <th>75%</th>\n",
       "      <td>1.000000</td>\n",
       "      <td>69.000000</td>\n",
       "      <td>2.000000</td>\n",
       "      <td>2.000000</td>\n",
       "      <td>2.000000</td>\n",
       "      <td>2.000000</td>\n",
       "      <td>2.000000</td>\n",
       "      <td>2.000000</td>\n",
       "      <td>2.000000</td>\n",
       "      <td>2.000000</td>\n",
       "      <td>2.000000</td>\n",
       "      <td>2.000000</td>\n",
       "      <td>2.000000</td>\n",
       "      <td>2.000000</td>\n",
       "      <td>2.000000</td>\n",
       "      <td>1.000000</td>\n",
       "    </tr>\n",
       "    <tr>\n",
       "      <th>max</th>\n",
       "      <td>1.000000</td>\n",
       "      <td>87.000000</td>\n",
       "      <td>2.000000</td>\n",
       "      <td>2.000000</td>\n",
       "      <td>2.000000</td>\n",
       "      <td>2.000000</td>\n",
       "      <td>2.000000</td>\n",
       "      <td>2.000000</td>\n",
       "      <td>2.000000</td>\n",
       "      <td>2.000000</td>\n",
       "      <td>2.000000</td>\n",
       "      <td>2.000000</td>\n",
       "      <td>2.000000</td>\n",
       "      <td>2.000000</td>\n",
       "      <td>2.000000</td>\n",
       "      <td>1.000000</td>\n",
       "    </tr>\n",
       "  </tbody>\n",
       "</table>\n",
       "</div>"
      ],
      "text/plain": [
       "           GENDER         AGE     SMOKING  YELLOW_FINGERS     ANXIETY  \\\n",
       "count  309.000000  309.000000  309.000000      309.000000  309.000000   \n",
       "mean     0.524272   62.673139    1.563107        1.569579    1.498382   \n",
       "std      0.500221    8.210301    0.496806        0.495938    0.500808   \n",
       "min      0.000000   21.000000    1.000000        1.000000    1.000000   \n",
       "25%      0.000000   57.000000    1.000000        1.000000    1.000000   \n",
       "50%      1.000000   62.000000    2.000000        2.000000    1.000000   \n",
       "75%      1.000000   69.000000    2.000000        2.000000    2.000000   \n",
       "max      1.000000   87.000000    2.000000        2.000000    2.000000   \n",
       "\n",
       "       PEER_PRESSURE  CHRONIC DISEASE    FATIGUE     ALLERGY     WHEEZING  \\\n",
       "count     309.000000       309.000000  309.000000  309.000000  309.000000   \n",
       "mean        1.501618         1.504854    1.673139    1.556634    1.556634   \n",
       "std         0.500808         0.500787    0.469827    0.497588    0.497588   \n",
       "min         1.000000         1.000000    1.000000    1.000000    1.000000   \n",
       "25%         1.000000         1.000000    1.000000    1.000000    1.000000   \n",
       "50%         2.000000         2.000000    2.000000    2.000000    2.000000   \n",
       "75%         2.000000         2.000000    2.000000    2.000000    2.000000   \n",
       "max         2.000000         2.000000    2.000000    2.000000    2.000000   \n",
       "\n",
       "       ALCOHOL CONSUMING    COUGHING  SHORTNESS OF BREATH  \\\n",
       "count         309.000000  309.000000           309.000000   \n",
       "mean            1.556634    1.579288             1.640777   \n",
       "std             0.497588    0.494474             0.480551   \n",
       "min             1.000000    1.000000             1.000000   \n",
       "25%             1.000000    1.000000             1.000000   \n",
       "50%             2.000000    2.000000             2.000000   \n",
       "75%             2.000000    2.000000             2.000000   \n",
       "max             2.000000    2.000000             2.000000   \n",
       "\n",
       "       SWALLOWING DIFFICULTY  CHEST PAIN  LUNG_CANCER  \n",
       "count             309.000000  309.000000   309.000000  \n",
       "mean                1.469256    1.556634     0.873786  \n",
       "std                 0.499863    0.497588     0.332629  \n",
       "min                 1.000000    1.000000     0.000000  \n",
       "25%                 1.000000    1.000000     1.000000  \n",
       "50%                 1.000000    2.000000     1.000000  \n",
       "75%                 2.000000    2.000000     1.000000  \n",
       "max                 2.000000    2.000000     1.000000  "
      ]
     },
     "execution_count": 131,
     "metadata": {},
     "output_type": "execute_result"
    }
   ],
   "source": [
    "df.describe()"
   ]
  },
  {
   "cell_type": "code",
   "execution_count": 132,
   "id": "babcfaf9-1dfc-438c-b8d3-324a10058772",
   "metadata": {},
   "outputs": [
    {
     "data": {
      "text/plain": [
       "1    270\n",
       "0     39\n",
       "Name: LUNG_CANCER, dtype: int64"
      ]
     },
     "execution_count": 132,
     "metadata": {},
     "output_type": "execute_result"
    }
   ],
   "source": [
    "df['LUNG_CANCER'].value_counts()"
   ]
  },
  {
   "cell_type": "code",
   "execution_count": 133,
   "id": "824ca283-2d2d-4cf4-879a-afea6cad19c3",
   "metadata": {},
   "outputs": [
    {
     "data": {
      "text/plain": [
       "<AxesSubplot:>"
      ]
     },
     "execution_count": 133,
     "metadata": {},
     "output_type": "execute_result"
    },
    {
     "data": {
      "image/png": "[encoded data removed]",
      "text/plain": [
       "<Figure size 576x432 with 2 Axes>"
      ]
     },
     "metadata": {
      "needs_background": "light"
     },
     "output_type": "display_data"
    }
   ],
   "source": [
    "plt.figure(figsize=(8,6))\n",
    "sns.heatmap(df.corr(),cmap='coolwarm')"
   ]
  },
  {
   "cell_type": "markdown",
   "id": "8e530fd2-6960-449c-bd02-7ec687e861a9",
   "metadata": {},
   "source": [
    "## What are the top 5 correlated frequencies with the target\\label?\n",
    "Note: You many need to map the label to 0s and 1s.\n",
    "\n",
    "Additional Note: We're looking for absolute* correlation values.*"
   ]
  },
  {
   "cell_type": "code",
   "execution_count": 134,
   "id": "20774d67-ef9d-48a0-be85-a271b0b4838a",
   "metadata": {},
   "outputs": [],
   "source": [
    "# df['Target'] = df['LUNG_CANCER']"
   ]
  },
  {
   "cell_type": "code",
   "execution_count": 135,
   "id": "695014e1-1c1c-4bc3-9657-4ea98386971a",
   "metadata": {},
   "outputs": [],
   "source": [
    "# df.head()"
   ]
  },
  {
   "cell_type": "code",
   "execution_count": 136,
   "id": "5d82a644-c20d-4c5c-aed9-e7f56cade46d",
   "metadata": {},
   "outputs": [],
   "source": [
    "# np.abs(df.corr()['Target']).sort_values().tail(6)"
   ]
  },
  {
   "cell_type": "code",
   "execution_count": 137,
   "id": "d6f83945-5e81-44a8-9155-2f930d3b43d8",
   "metadata": {},
   "outputs": [],
   "source": [
    "# df.drop('Target', axis=1)"
   ]
  },
  {
   "cell_type": "markdown",
   "id": "ba54dccc-8f03-4fdc-a803-1813c980889a",
   "metadata": {},
   "source": [
    "# Dividing the dataset into dependent and independent columns"
   ]
  },
  {
   "cell_type": "code",
   "execution_count": 138,
   "id": "d88be163-1c6f-4687-9e0b-b66bc4bbefdd",
   "metadata": {},
   "outputs": [],
   "source": [
    "from sklearn.model_selection import train_test_split "
   ]
  },
  {
   "cell_type": "code",
   "execution_count": 139,
   "id": "14d52de3-6abb-4cb8-9378-2d7ba12abc99",
   "metadata": {},
   "outputs": [
    {
     "data": {
      "text/html": [
       "<div>\n",
       "<style scoped>\n",
       "    .dataframe tbody tr th:only-of-type {\n",
       "        vertical-align: middle;\n",
       "    }\n",
       "\n",
       "    .dataframe tbody tr th {\n",
       "        vertical-align: top;\n",
       "    }\n",
       "\n",
       "    .dataframe thead th {\n",
       "        text-align: right;\n",
       "    }\n",
       "</style>\n",
       "<table border=\"1\" class=\"dataframe\">\n",
       "  <thead>\n",
       "    <tr style=\"text-align: right;\">\n",
       "      <th></th>\n",
       "      <th>GENDER</th>\n",
       "      <th>AGE</th>\n",
       "      <th>SMOKING</th>\n",
       "      <th>YELLOW_FINGERS</th>\n",
       "      <th>ANXIETY</th>\n",
       "      <th>PEER_PRESSURE</th>\n",
       "      <th>CHRONIC DISEASE</th>\n",
       "      <th>FATIGUE</th>\n",
       "      <th>ALLERGY</th>\n",
       "      <th>WHEEZING</th>\n",
       "      <th>ALCOHOL CONSUMING</th>\n",
       "      <th>COUGHING</th>\n",
       "      <th>SHORTNESS OF BREATH</th>\n",
       "      <th>SWALLOWING DIFFICULTY</th>\n",
       "      <th>CHEST PAIN</th>\n",
       "    </tr>\n",
       "  </thead>\n",
       "  <tbody>\n",
       "    <tr>\n",
       "      <th>0</th>\n",
       "      <td>1</td>\n",
       "      <td>69</td>\n",
       "      <td>1</td>\n",
       "      <td>2</td>\n",
       "      <td>2</td>\n",
       "      <td>1</td>\n",
       "      <td>1</td>\n",
       "      <td>2</td>\n",
       "      <td>1</td>\n",
       "      <td>2</td>\n",
       "      <td>2</td>\n",
       "      <td>2</td>\n",
       "      <td>2</td>\n",
       "      <td>2</td>\n",
       "      <td>2</td>\n",
       "    </tr>\n",
       "    <tr>\n",
       "      <th>1</th>\n",
       "      <td>1</td>\n",
       "      <td>74</td>\n",
       "      <td>2</td>\n",
       "      <td>1</td>\n",
       "      <td>1</td>\n",
       "      <td>1</td>\n",
       "      <td>2</td>\n",
       "      <td>2</td>\n",
       "      <td>2</td>\n",
       "      <td>1</td>\n",
       "      <td>1</td>\n",
       "      <td>1</td>\n",
       "      <td>2</td>\n",
       "      <td>2</td>\n",
       "      <td>2</td>\n",
       "    </tr>\n",
       "    <tr>\n",
       "      <th>2</th>\n",
       "      <td>0</td>\n",
       "      <td>59</td>\n",
       "      <td>1</td>\n",
       "      <td>1</td>\n",
       "      <td>1</td>\n",
       "      <td>2</td>\n",
       "      <td>1</td>\n",
       "      <td>2</td>\n",
       "      <td>1</td>\n",
       "      <td>2</td>\n",
       "      <td>1</td>\n",
       "      <td>2</td>\n",
       "      <td>2</td>\n",
       "      <td>1</td>\n",
       "      <td>2</td>\n",
       "    </tr>\n",
       "    <tr>\n",
       "      <th>3</th>\n",
       "      <td>1</td>\n",
       "      <td>63</td>\n",
       "      <td>2</td>\n",
       "      <td>2</td>\n",
       "      <td>2</td>\n",
       "      <td>1</td>\n",
       "      <td>1</td>\n",
       "      <td>1</td>\n",
       "      <td>1</td>\n",
       "      <td>1</td>\n",
       "      <td>2</td>\n",
       "      <td>1</td>\n",
       "      <td>1</td>\n",
       "      <td>2</td>\n",
       "      <td>2</td>\n",
       "    </tr>\n",
       "    <tr>\n",
       "      <th>4</th>\n",
       "      <td>0</td>\n",
       "      <td>63</td>\n",
       "      <td>1</td>\n",
       "      <td>2</td>\n",
       "      <td>1</td>\n",
       "      <td>1</td>\n",
       "      <td>1</td>\n",
       "      <td>1</td>\n",
       "      <td>1</td>\n",
       "      <td>2</td>\n",
       "      <td>1</td>\n",
       "      <td>2</td>\n",
       "      <td>2</td>\n",
       "      <td>1</td>\n",
       "      <td>1</td>\n",
       "    </tr>\n",
       "    <tr>\n",
       "      <th>...</th>\n",
       "      <td>...</td>\n",
       "      <td>...</td>\n",
       "      <td>...</td>\n",
       "      <td>...</td>\n",
       "      <td>...</td>\n",
       "      <td>...</td>\n",
       "      <td>...</td>\n",
       "      <td>...</td>\n",
       "      <td>...</td>\n",
       "      <td>...</td>\n",
       "      <td>...</td>\n",
       "      <td>...</td>\n",
       "      <td>...</td>\n",
       "      <td>...</td>\n",
       "      <td>...</td>\n",
       "    </tr>\n",
       "    <tr>\n",
       "      <th>304</th>\n",
       "      <td>0</td>\n",
       "      <td>56</td>\n",
       "      <td>1</td>\n",
       "      <td>1</td>\n",
       "      <td>1</td>\n",
       "      <td>2</td>\n",
       "      <td>2</td>\n",
       "      <td>2</td>\n",
       "      <td>1</td>\n",
       "      <td>1</td>\n",
       "      <td>2</td>\n",
       "      <td>2</td>\n",
       "      <td>2</td>\n",
       "      <td>2</td>\n",
       "      <td>1</td>\n",
       "    </tr>\n",
       "    <tr>\n",
       "      <th>305</th>\n",
       "      <td>1</td>\n",
       "      <td>70</td>\n",
       "      <td>2</td>\n",
       "      <td>1</td>\n",
       "      <td>1</td>\n",
       "      <td>1</td>\n",
       "      <td>1</td>\n",
       "      <td>2</td>\n",
       "      <td>2</td>\n",
       "      <td>2</td>\n",
       "      <td>2</td>\n",
       "      <td>2</td>\n",
       "      <td>2</td>\n",
       "      <td>1</td>\n",
       "      <td>2</td>\n",
       "    </tr>\n",
       "    <tr>\n",
       "      <th>306</th>\n",
       "      <td>1</td>\n",
       "      <td>58</td>\n",
       "      <td>2</td>\n",
       "      <td>1</td>\n",
       "      <td>1</td>\n",
       "      <td>1</td>\n",
       "      <td>1</td>\n",
       "      <td>1</td>\n",
       "      <td>2</td>\n",
       "      <td>2</td>\n",
       "      <td>2</td>\n",
       "      <td>2</td>\n",
       "      <td>1</td>\n",
       "      <td>1</td>\n",
       "      <td>2</td>\n",
       "    </tr>\n",
       "    <tr>\n",
       "      <th>307</th>\n",
       "      <td>1</td>\n",
       "      <td>67</td>\n",
       "      <td>2</td>\n",
       "      <td>1</td>\n",
       "      <td>2</td>\n",
       "      <td>1</td>\n",
       "      <td>1</td>\n",
       "      <td>2</td>\n",
       "      <td>2</td>\n",
       "      <td>1</td>\n",
       "      <td>2</td>\n",
       "      <td>2</td>\n",
       "      <td>2</td>\n",
       "      <td>1</td>\n",
       "      <td>2</td>\n",
       "    </tr>\n",
       "    <tr>\n",
       "      <th>308</th>\n",
       "      <td>1</td>\n",
       "      <td>62</td>\n",
       "      <td>1</td>\n",
       "      <td>1</td>\n",
       "      <td>1</td>\n",
       "      <td>2</td>\n",
       "      <td>1</td>\n",
       "      <td>2</td>\n",
       "      <td>2</td>\n",
       "      <td>2</td>\n",
       "      <td>2</td>\n",
       "      <td>1</td>\n",
       "      <td>1</td>\n",
       "      <td>2</td>\n",
       "      <td>1</td>\n",
       "    </tr>\n",
       "  </tbody>\n",
       "</table>\n",
       "<p>309 rows × 15 columns</p>\n",
       "</div>"
      ],
      "text/plain": [
       "     GENDER  AGE  SMOKING  YELLOW_FINGERS  ANXIETY  PEER_PRESSURE  \\\n",
       "0         1   69        1               2        2              1   \n",
       "1         1   74        2               1        1              1   \n",
       "2         0   59        1               1        1              2   \n",
       "3         1   63        2               2        2              1   \n",
       "4         0   63        1               2        1              1   \n",
       "..      ...  ...      ...             ...      ...            ...   \n",
       "304       0   56        1               1        1              2   \n",
       "305       1   70        2               1        1              1   \n",
       "306       1   58        2               1        1              1   \n",
       "307       1   67        2               1        2              1   \n",
       "308       1   62        1               1        1              2   \n",
       "\n",
       "     CHRONIC DISEASE  FATIGUE   ALLERGY   WHEEZING  ALCOHOL CONSUMING  \\\n",
       "0                  1         2         1         2                  2   \n",
       "1                  2         2         2         1                  1   \n",
       "2                  1         2         1         2                  1   \n",
       "3                  1         1         1         1                  2   \n",
       "4                  1         1         1         2                  1   \n",
       "..               ...       ...       ...       ...                ...   \n",
       "304                2         2         1         1                  2   \n",
       "305                1         2         2         2                  2   \n",
       "306                1         1         2         2                  2   \n",
       "307                1         2         2         1                  2   \n",
       "308                1         2         2         2                  2   \n",
       "\n",
       "     COUGHING  SHORTNESS OF BREATH  SWALLOWING DIFFICULTY  CHEST PAIN  \n",
       "0           2                    2                      2           2  \n",
       "1           1                    2                      2           2  \n",
       "2           2                    2                      1           2  \n",
       "3           1                    1                      2           2  \n",
       "4           2                    2                      1           1  \n",
       "..        ...                  ...                    ...         ...  \n",
       "304         2                    2                      2           1  \n",
       "305         2                    2                      1           2  \n",
       "306         2                    1                      1           2  \n",
       "307         2                    2                      1           2  \n",
       "308         1                    1                      2           1  \n",
       "\n",
       "[309 rows x 15 columns]"
      ]
     },
     "execution_count": 139,
     "metadata": {},
     "output_type": "execute_result"
    }
   ],
   "source": [
    "X= df.drop('LUNG_CANCER',axis=1)\n",
    "y=df['LUNG_CANCER']\n",
    "X"
   ]
  },
  {
   "cell_type": "code",
   "execution_count": 140,
   "id": "83384f21-9439-420c-bc44-9aaef00bfc22",
   "metadata": {},
   "outputs": [
    {
     "data": {
      "text/plain": [
       "0      1\n",
       "1      1\n",
       "2      0\n",
       "3      0\n",
       "4      0\n",
       "      ..\n",
       "304    1\n",
       "305    1\n",
       "306    1\n",
       "307    1\n",
       "308    1\n",
       "Name: LUNG_CANCER, Length: 309, dtype: int64"
      ]
     },
     "execution_count": 140,
     "metadata": {},
     "output_type": "execute_result"
    }
   ],
   "source": [
    "y"
   ]
  },
  {
   "cell_type": "code",
   "execution_count": 141,
   "id": "074ded20-d2d4-440e-9b0f-c9a6ed2bead6",
   "metadata": {},
   "outputs": [],
   "source": [
    "X_cv, X_test, y_cv, y_test = train_test_split(X, y, test_size=0.1, random_state=42)"
   ]
  },
  {
   "cell_type": "markdown",
   "id": "3b75ade4-a450-4976-b17e-9f67fa0ae414",
   "metadata": {},
   "source": [
    "## Create a PipeLine that contains both a StandardScaler and a KNN model"
   ]
  },
  {
   "cell_type": "code",
   "execution_count": 142,
   "id": "cefce05a-0a62-41d5-9a2f-4e4d10d1c9fa",
   "metadata": {},
   "outputs": [],
   "source": [
    "from sklearn.preprocessing import StandardScaler\n",
    "from sklearn.neighbors import KNeighborsClassifier"
   ]
  },
  {
   "cell_type": "code",
   "execution_count": 143,
   "id": "bae55e99-6ff9-451a-8623-d9f30966b242",
   "metadata": {},
   "outputs": [],
   "source": [
    "scaler = StandardScaler()"
   ]
  },
  {
   "cell_type": "code",
   "execution_count": 144,
   "id": "b2c63f22-a47f-4e4e-b0a8-6e5a09e4a1da",
   "metadata": {},
   "outputs": [],
   "source": [
    "knn = KNeighborsClassifier()"
   ]
  },
  {
   "cell_type": "code",
   "execution_count": 145,
   "id": "d39113a1-1187-4869-9f9b-dee142432cac",
   "metadata": {},
   "outputs": [],
   "source": [
    "operations = [('scaler',scaler),('knn',knn)]"
   ]
  },
  {
   "cell_type": "code",
   "execution_count": 146,
   "id": "e400debc-9a2b-4bf6-b436-73c61cd01959",
   "metadata": {},
   "outputs": [],
   "source": [
    "from sklearn.pipeline import Pipeline"
   ]
  },
  {
   "cell_type": "code",
   "execution_count": 147,
   "id": "1eda56f6-bd3c-43e5-abaa-306dd6b23a86",
   "metadata": {},
   "outputs": [],
   "source": [
    "pipe = Pipeline(operations)"
   ]
  },
  {
   "cell_type": "markdown",
   "id": "d311b97b-ac41-4dbb-a250-a300aa127112",
   "metadata": {},
   "source": [
    "## Perform a grid-search with the pipeline to test various values of k and report back the best performing parameters."
   ]
  },
  {
   "cell_type": "code",
   "execution_count": 148,
   "id": "78fba13c-adda-479c-bfc3-9747b418ce02",
   "metadata": {},
   "outputs": [],
   "source": [
    "from sklearn.model_selection import GridSearchCV"
   ]
  },
  {
   "cell_type": "code",
   "execution_count": 149,
   "id": "5a9c91d3-2cf5-4017-a015-42e814e0caba",
   "metadata": {},
   "outputs": [],
   "source": [
    "k_values = list(range(1,30))"
   ]
  },
  {
   "cell_type": "code",
   "execution_count": 150,
   "id": "bb9b47fa-1ad0-4609-a87d-54d976fb8702",
   "metadata": {},
   "outputs": [],
   "source": [
    "param_grid = {'knn__n_neighbors': k_values}"
   ]
  },
  {
   "cell_type": "code",
   "execution_count": 151,
   "id": "f339def6-accf-4618-8eed-e5af602773ff",
   "metadata": {},
   "outputs": [],
   "source": [
    "full_cv_classifier = GridSearchCV(pipe,param_grid,cv=5,scoring='accuracy')"
   ]
  },
  {
   "cell_type": "code",
   "execution_count": 167,
   "id": "b2832f36-2d1d-4559-87b7-0f0df5015a06",
   "metadata": {},
   "outputs": [
    {
     "data": {
      "text/plain": [
       "3      0\n",
       "82     1\n",
       "259    1\n",
       "93     1\n",
       "101    1\n",
       "      ..\n",
       "188    1\n",
       "71     1\n",
       "106    1\n",
       "270    0\n",
       "102    1\n",
       "Name: LUNG_CANCER, Length: 278, dtype: int64"
      ]
     },
     "execution_count": 167,
     "metadata": {},
     "output_type": "execute_result"
    }
   ],
   "source": [
    "# X_cv.head()\n",
    "# y_cv"
   ]
  },
  {
   "cell_type": "code",
   "execution_count": 152,
   "id": "0e45db9e-3a85-4cb4-95ae-553b09611240",
   "metadata": {},
   "outputs": [
    {
     "data": {
      "text/plain": [
       "GridSearchCV(cv=5,\n",
       "             estimator=Pipeline(steps=[('scaler', StandardScaler()),\n",
       "                                       ('knn', KNeighborsClassifier())]),\n",
       "             param_grid={'knn__n_neighbors': [1, 2, 3, 4, 5, 6, 7, 8, 9, 10, 11,\n",
       "                                              12, 13, 14, 15, 16, 17, 18, 19,\n",
       "                                              20, 21, 22, 23, 24, 25, 26, 27,\n",
       "                                              28, 29]},\n",
       "             scoring='accuracy')"
      ]
     },
     "execution_count": 152,
     "metadata": {},
     "output_type": "execute_result"
    }
   ],
   "source": [
    "full_cv_classifier.fit(X_cv,y_cv)"
   ]
  },
  {
   "cell_type": "code",
   "execution_count": 153,
   "id": "f8b65a44-d28c-47b9-b9f9-9bca23bdc989",
   "metadata": {},
   "outputs": [
    {
     "data": {
      "text/plain": [
       "{'memory': None,\n",
       " 'steps': [('scaler', StandardScaler()),\n",
       "  ('knn', KNeighborsClassifier(n_neighbors=4))],\n",
       " 'verbose': False,\n",
       " 'scaler': StandardScaler(),\n",
       " 'knn': KNeighborsClassifier(n_neighbors=4),\n",
       " 'scaler__copy': True,\n",
       " 'scaler__with_mean': True,\n",
       " 'scaler__with_std': True,\n",
       " 'knn__algorithm': 'auto',\n",
       " 'knn__leaf_size': 30,\n",
       " 'knn__metric': 'minkowski',\n",
       " 'knn__metric_params': None,\n",
       " 'knn__n_jobs': None,\n",
       " 'knn__n_neighbors': 4,\n",
       " 'knn__p': 2,\n",
       " 'knn__weights': 'uniform'}"
      ]
     },
     "execution_count": 153,
     "metadata": {},
     "output_type": "execute_result"
    }
   ],
   "source": [
    "full_cv_classifier.best_estimator_.get_params()"
   ]
  },
  {
   "cell_type": "markdown",
   "id": "f2368384-a35d-45cb-a5b7-6121c3b979e7",
   "metadata": {},
   "source": [
    "## Using the .cv_results_ dictionary, see if you can create a plot of the mean test scores per K value."
   ]
  },
  {
   "cell_type": "code",
   "execution_count": 154,
   "id": "375ffca5-524d-4623-8e44-ea749626eeda",
   "metadata": {},
   "outputs": [
    {
     "data": {
      "text/plain": [
       "array([0.89201299, 0.89201299, 0.89935065, 0.91012987, 0.89201299,\n",
       "       0.89558442, 0.89201299, 0.90279221, 0.88837662, 0.89928571,\n",
       "       0.88844156, 0.89214286, 0.88480519, 0.89207792, 0.88123377,\n",
       "       0.88480519, 0.87045455, 0.87766234, 0.86688312, 0.87051948,\n",
       "       0.87772727, 0.87772727, 0.87409091, 0.87772727, 0.86688312,\n",
       "       0.86688312, 0.85967532, 0.86324675, 0.8561039 ])"
      ]
     },
     "execution_count": 154,
     "metadata": {},
     "output_type": "execute_result"
    }
   ],
   "source": [
    "full_cv_classifier.cv_results_['mean_test_score']"
   ]
  },
  {
   "cell_type": "code",
   "execution_count": 155,
   "id": "e2681457-f4ca-49e4-bd2c-e4c57ea3c9d1",
   "metadata": {},
   "outputs": [
    {
     "data": {
      "text/plain": [
       "Text(0, 0.5, 'Accuracy')"
      ]
     },
     "execution_count": 155,
     "metadata": {},
     "output_type": "execute_result"
    },
    {
     "data": {
      "image/png": "[encoded data removed]",
      "text/plain": [
       "<Figure size 432x288 with 1 Axes>"
      ]
     },
     "metadata": {
      "needs_background": "light"
     },
     "output_type": "display_data"
    }
   ],
   "source": [
    "scores = full_cv_classifier.cv_results_['mean_test_score']\n",
    "plt.plot(k_values,scores,'o-')\n",
    "plt.xlabel(\"K\")\n",
    "plt.ylabel(\"Accuracy\")"
   ]
  },
  {
   "cell_type": "markdown",
   "id": "07fe49e6-e526-45bb-b970-2566c509e536",
   "metadata": {},
   "source": [
    "# Final Model Evaluation"
   ]
  },
  {
   "cell_type": "markdown",
   "id": "4569ad5e-c0b0-4cfd-812e-1a3545e08408",
   "metadata": {},
   "source": [
    "Using the grid classifier object from the previous step, get a final performance classification report and confusion matrix"
   ]
  },
  {
   "cell_type": "code",
   "execution_count": 156,
   "id": "23a93e26-a14f-4d08-88e2-64838b992edc",
   "metadata": {},
   "outputs": [],
   "source": [
    "pred = full_cv_classifier.predict(X_test)"
   ]
  },
  {
   "cell_type": "code",
   "execution_count": 157,
   "id": "340e6310-2f4f-4a7d-82f4-1149687a9e41",
   "metadata": {},
   "outputs": [],
   "source": [
    "from sklearn.metrics import classification_report,confusion_matrix,accuracy_score"
   ]
  },
  {
   "cell_type": "code",
   "execution_count": 158,
   "id": "1ed839f4-c427-40b6-a9cf-953384644b18",
   "metadata": {},
   "outputs": [
    {
     "data": {
      "text/plain": [
       "array([[ 0,  0],\n",
       "       [ 5, 26]], dtype=int64)"
      ]
     },
     "execution_count": 158,
     "metadata": {},
     "output_type": "execute_result"
    }
   ],
   "source": [
    "confusion_matrix(y_test,pred)"
   ]
  },
  {
   "cell_type": "code",
   "execution_count": 159,
   "id": "258deb75-bd11-445a-afac-39ebeb8e0de4",
   "metadata": {},
   "outputs": [
    {
     "data": {
      "text/plain": [
       "0.8387096774193549"
      ]
     },
     "execution_count": 159,
     "metadata": {},
     "output_type": "execute_result"
    }
   ],
   "source": [
    "accuracy_score(y_test,pred)"
   ]
  },
  {
   "cell_type": "code",
   "execution_count": 160,
   "id": "4afade1d-e6a5-4168-a0b6-55860b230c2e",
   "metadata": {},
   "outputs": [
    {
     "name": "stdout",
     "output_type": "stream",
     "text": [
      "              precision    recall  f1-score   support\n",
      "\n",
      "           0       0.00      0.00      0.00         0\n",
      "           1       1.00      0.84      0.91        31\n",
      "\n",
      "    accuracy                           0.84        31\n",
      "   macro avg       0.50      0.42      0.46        31\n",
      "weighted avg       1.00      0.84      0.91        31\n",
      "\n"
     ]
    },
    {
     "name": "stderr",
     "output_type": "stream",
     "text": [
      "C:\\Users\\aravindv\\AppData\\Local\\Programs\\Python\\Python39\\lib\\site-packages\\sklearn\\metrics\\_classification.py:1318: UndefinedMetricWarning: Recall and F-score are ill-defined and being set to 0.0 in labels with no true samples. Use `zero_division` parameter to control this behavior.\n",
      "  _warn_prf(average, modifier, msg_start, len(result))\n",
      "C:\\Users\\aravindv\\AppData\\Local\\Programs\\Python\\Python39\\lib\\site-packages\\sklearn\\metrics\\_classification.py:1318: UndefinedMetricWarning: Recall and F-score are ill-defined and being set to 0.0 in labels with no true samples. Use `zero_division` parameter to control this behavior.\n",
      "  _warn_prf(average, modifier, msg_start, len(result))\n",
      "C:\\Users\\aravindv\\AppData\\Local\\Programs\\Python\\Python39\\lib\\site-packages\\sklearn\\metrics\\_classification.py:1318: UndefinedMetricWarning: Recall and F-score are ill-defined and being set to 0.0 in labels with no true samples. Use `zero_division` parameter to control this behavior.\n",
      "  _warn_prf(average, modifier, msg_start, len(result))\n"
     ]
    }
   ],
   "source": [
    "print(classification_report(y_test,pred))"
   ]
  },
  {
   "cell_type": "code",
   "execution_count": 161,
   "id": "e6bbef35-84fe-4410-a402-7d29dbac98e2",
   "metadata": {},
   "outputs": [],
   "source": [
    "data_new = {'GENDER': 0, 'AGE': 65, 'SMOKING': 1, 'YELLOW_FINGERS': 2, 'ANXIETY': 2,\n",
    "            'PEER_PRESSURE': 1, 'CHRONIC DISEASE': 1, 'FATIGUE': 2, 'ALLERGY': 2, 'WHEEZING': 2,\n",
    "            'ALCOHOL CONSUMING': 2, 'COUGHING': 2, 'SHORTNESS OF BREATH': 2, 'SWALLOWING DIFFICULTY':2, 'CHEST PAIN':1}\n",
    "index = [1]  # serial number"
   ]
  },
  {
   "cell_type": "code",
   "execution_count": 162,
   "id": "3e085cd3-c15f-46f1-8718-115927c83884",
   "metadata": {},
   "outputs": [],
   "source": [
    "my_data = pd.DataFrame(data_new, index)"
   ]
  },
  {
   "cell_type": "code",
   "execution_count": 163,
   "id": "0c0a8eab-1973-4edf-a5a7-8b211d0a35cc",
   "metadata": {},
   "outputs": [
    {
     "name": "stdout",
     "output_type": "stream",
     "text": [
      "   GENDER  AGE  SMOKING  YELLOW_FINGERS  ANXIETY  PEER_PRESSURE  \\\n",
      "1       0   65        1               2        2              1   \n",
      "\n",
      "   CHRONIC DISEASE  FATIGUE  ALLERGY  WHEEZING  ALCOHOL CONSUMING  COUGHING  \\\n",
      "1                1        2        2         2                  2         2   \n",
      "\n",
      "   SHORTNESS OF BREATH  SWALLOWING DIFFICULTY  CHEST PAIN  \n",
      "1                    2                      2           1  \n"
     ]
    }
   ],
   "source": [
    "print(my_data)"
   ]
  },
  {
   "cell_type": "code",
   "execution_count": 164,
   "id": "50bf3bf7-fb6c-413a-b401-24a4686efed3",
   "metadata": {},
   "outputs": [
    {
     "name": "stdout",
     "output_type": "stream",
     "text": [
      " The Lung Cancer prediction is :[1]\n"
     ]
    },
    {
     "name": "stderr",
     "output_type": "stream",
     "text": [
      "C:\\Users\\aravindv\\AppData\\Local\\Programs\\Python\\Python39\\lib\\site-packages\\sklearn\\base.py:493: FutureWarning: The feature names should match those that were passed during fit. Starting version 1.2, an error will be raised.\n",
      "Feature names unseen at fit time:\n",
      "- ALLERGY\n",
      "- FATIGUE\n",
      "Feature names seen at fit time, yet now missing:\n",
      "- ALLERGY \n",
      "- FATIGUE \n",
      "\n",
      "  warnings.warn(message, FutureWarning)\n"
     ]
    }
   ],
   "source": [
    "medical_details = full_cv_classifier.predict(my_data)\n",
    "print(f\" The Lung Cancer prediction is :{medical_details}\")"
   ]
  },
  {
   "cell_type": "code",
   "execution_count": 165,
   "id": "035a1ecb-626a-4003-819a-49f32ffe5e54",
   "metadata": {},
   "outputs": [
    {
     "data": {
      "text/html": [
       "<div>\n",
       "<style scoped>\n",
       "    .dataframe tbody tr th:only-of-type {\n",
       "        vertical-align: middle;\n",
       "    }\n",
       "\n",
       "    .dataframe tbody tr th {\n",
       "        vertical-align: top;\n",
       "    }\n",
       "\n",
       "    .dataframe thead th {\n",
       "        text-align: right;\n",
       "    }\n",
       "</style>\n",
       "<table border=\"1\" class=\"dataframe\">\n",
       "  <thead>\n",
       "    <tr style=\"text-align: right;\">\n",
       "      <th></th>\n",
       "      <th>GENDER</th>\n",
       "      <th>AGE</th>\n",
       "      <th>SMOKING</th>\n",
       "      <th>YELLOW_FINGERS</th>\n",
       "      <th>ANXIETY</th>\n",
       "      <th>PEER_PRESSURE</th>\n",
       "      <th>CHRONIC DISEASE</th>\n",
       "      <th>FATIGUE</th>\n",
       "      <th>ALLERGY</th>\n",
       "      <th>WHEEZING</th>\n",
       "      <th>ALCOHOL CONSUMING</th>\n",
       "      <th>COUGHING</th>\n",
       "      <th>SHORTNESS OF BREATH</th>\n",
       "      <th>SWALLOWING DIFFICULTY</th>\n",
       "      <th>CHEST PAIN</th>\n",
       "      <th>LUNG_CANCER</th>\n",
       "    </tr>\n",
       "  </thead>\n",
       "  <tbody>\n",
       "    <tr>\n",
       "      <th>0</th>\n",
       "      <td>1</td>\n",
       "      <td>69</td>\n",
       "      <td>1</td>\n",
       "      <td>2</td>\n",
       "      <td>2</td>\n",
       "      <td>1</td>\n",
       "      <td>1</td>\n",
       "      <td>2</td>\n",
       "      <td>1</td>\n",
       "      <td>2</td>\n",
       "      <td>2</td>\n",
       "      <td>2</td>\n",
       "      <td>2</td>\n",
       "      <td>2</td>\n",
       "      <td>2</td>\n",
       "      <td>1</td>\n",
       "    </tr>\n",
       "    <tr>\n",
       "      <th>1</th>\n",
       "      <td>1</td>\n",
       "      <td>74</td>\n",
       "      <td>2</td>\n",
       "      <td>1</td>\n",
       "      <td>1</td>\n",
       "      <td>1</td>\n",
       "      <td>2</td>\n",
       "      <td>2</td>\n",
       "      <td>2</td>\n",
       "      <td>1</td>\n",
       "      <td>1</td>\n",
       "      <td>1</td>\n",
       "      <td>2</td>\n",
       "      <td>2</td>\n",
       "      <td>2</td>\n",
       "      <td>1</td>\n",
       "    </tr>\n",
       "    <tr>\n",
       "      <th>2</th>\n",
       "      <td>0</td>\n",
       "      <td>59</td>\n",
       "      <td>1</td>\n",
       "      <td>1</td>\n",
       "      <td>1</td>\n",
       "      <td>2</td>\n",
       "      <td>1</td>\n",
       "      <td>2</td>\n",
       "      <td>1</td>\n",
       "      <td>2</td>\n",
       "      <td>1</td>\n",
       "      <td>2</td>\n",
       "      <td>2</td>\n",
       "      <td>1</td>\n",
       "      <td>2</td>\n",
       "      <td>0</td>\n",
       "    </tr>\n",
       "    <tr>\n",
       "      <th>3</th>\n",
       "      <td>1</td>\n",
       "      <td>63</td>\n",
       "      <td>2</td>\n",
       "      <td>2</td>\n",
       "      <td>2</td>\n",
       "      <td>1</td>\n",
       "      <td>1</td>\n",
       "      <td>1</td>\n",
       "      <td>1</td>\n",
       "      <td>1</td>\n",
       "      <td>2</td>\n",
       "      <td>1</td>\n",
       "      <td>1</td>\n",
       "      <td>2</td>\n",
       "      <td>2</td>\n",
       "      <td>0</td>\n",
       "    </tr>\n",
       "    <tr>\n",
       "      <th>4</th>\n",
       "      <td>0</td>\n",
       "      <td>63</td>\n",
       "      <td>1</td>\n",
       "      <td>2</td>\n",
       "      <td>1</td>\n",
       "      <td>1</td>\n",
       "      <td>1</td>\n",
       "      <td>1</td>\n",
       "      <td>1</td>\n",
       "      <td>2</td>\n",
       "      <td>1</td>\n",
       "      <td>2</td>\n",
       "      <td>2</td>\n",
       "      <td>1</td>\n",
       "      <td>1</td>\n",
       "      <td>0</td>\n",
       "    </tr>\n",
       "  </tbody>\n",
       "</table>\n",
       "</div>"
      ],
      "text/plain": [
       "   GENDER  AGE  SMOKING  YELLOW_FINGERS  ANXIETY  PEER_PRESSURE  \\\n",
       "0       1   69        1               2        2              1   \n",
       "1       1   74        2               1        1              1   \n",
       "2       0   59        1               1        1              2   \n",
       "3       1   63        2               2        2              1   \n",
       "4       0   63        1               2        1              1   \n",
       "\n",
       "   CHRONIC DISEASE  FATIGUE   ALLERGY   WHEEZING  ALCOHOL CONSUMING  COUGHING  \\\n",
       "0                1         2         1         2                  2         2   \n",
       "1                2         2         2         1                  1         1   \n",
       "2                1         2         1         2                  1         2   \n",
       "3                1         1         1         1                  2         1   \n",
       "4                1         1         1         2                  1         2   \n",
       "\n",
       "   SHORTNESS OF BREATH  SWALLOWING DIFFICULTY  CHEST PAIN  LUNG_CANCER  \n",
       "0                    2                      2           2            1  \n",
       "1                    2                      2           2            1  \n",
       "2                    2                      1           2            0  \n",
       "3                    1                      2           2            0  \n",
       "4                    2                      1           1            0  "
      ]
     },
     "execution_count": 165,
     "metadata": {},
     "output_type": "execute_result"
    }
   ],
   "source": [
    "df.head()"
   ]
  },
  {
   "cell_type": "code",
   "execution_count": null,
   "id": "a210fd18-e5e3-43ab-b5a8-33a81dbb04e4",
   "metadata": {},
   "outputs": [],
   "source": []
  }
 ],
 "metadata": {
  "kernelspec": {
   "display_name": "Python 3 (ipykernel)",
   "language": "python",
   "name": "python3"
  },
  "language_info": {
   "codemirror_mode": {
    "name": "ipython",
    "version": 3
   },
   "file_extension": ".py",
   "mimetype": "text/x-python",
   "name": "python",
   "nbconvert_exporter": "python",
   "pygments_lexer": "ipython3",
   "version": "3.9.6"
  }
 },
 "nbformat": 4,
 "nbformat_minor": 5
}
