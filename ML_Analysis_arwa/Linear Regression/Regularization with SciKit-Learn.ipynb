{
 "cells": [
  {
   "cell_type": "markdown",
   "id": "13387374-cf2a-4625-b308-af9f5fa20a1d",
   "metadata": {},
   "source": [
    "Previously we created a new polynomial feature set and then applied our standard linear regression on it, but we can be smarter about model choice and utilize regularization.\n",
    "\n",
    "Regularization attempts to minimize the RSS (residual sum of squares) and a penalty factor. This penalty factor will penalize models that have coefficients that are too large. Some methods of regularization will actually cause non useful features to have a coefficient of zero, in which case the model does not consider the feature.\n",
    "\n",
    "Let's explore two methods of regularization, Ridge Regression and Lasso. We'll combine these with the polynomial feature set (it wouldn't be as effective to perform regularization of a model on such a small original feature set of the original X)."
   ]
  },
  {
   "cell_type": "markdown",
   "id": "c745df91-0c0e-437b-8d54-644476622bef",
   "metadata": {},
   "source": [
    "# Importing Libraries"
   ]
  },
  {
   "cell_type": "code",
   "execution_count": 356,
   "id": "b2d1cda7-bb03-4226-b781-c1e2f4642b08",
   "metadata": {},
   "outputs": [],
   "source": [
    "import pandas as pd\n",
    "import numpy as np\n",
    "import seaborn as sns\n",
    "import matplotlib.pyplot as plt"
   ]
  },
  {
   "cell_type": "markdown",
   "id": "59ddb821-4c48-41cb-a660-7b1ea363f042",
   "metadata": {},
   "source": [
    "# Reading the Dataset"
   ]
  },
  {
   "cell_type": "code",
   "execution_count": 357,
   "id": "143667de-dab4-42fc-81bb-86d85ec703ef",
   "metadata": {},
   "outputs": [],
   "source": [
    "df = pd.read_csv(\"house_data.csv\")"
   ]
  },
  {
   "cell_type": "code",
   "execution_count": 358,
   "id": "3577d6f9-bb49-43f2-b317-f08e72897f07",
   "metadata": {},
   "outputs": [
    {
     "data": {
      "text/html": [
       "<div>\n",
       "<style scoped>\n",
       "    .dataframe tbody tr th:only-of-type {\n",
       "        vertical-align: middle;\n",
       "    }\n",
       "\n",
       "    .dataframe tbody tr th {\n",
       "        vertical-align: top;\n",
       "    }\n",
       "\n",
       "    .dataframe thead th {\n",
       "        text-align: right;\n",
       "    }\n",
       "</style>\n",
       "<table border=\"1\" class=\"dataframe\">\n",
       "  <thead>\n",
       "    <tr style=\"text-align: right;\">\n",
       "      <th></th>\n",
       "      <th>date</th>\n",
       "      <th>price</th>\n",
       "      <th>bedrooms</th>\n",
       "      <th>bathrooms</th>\n",
       "      <th>sqft_living</th>\n",
       "      <th>sqft_lot</th>\n",
       "      <th>floors</th>\n",
       "      <th>waterfront</th>\n",
       "      <th>view</th>\n",
       "      <th>condition</th>\n",
       "      <th>sqft_above</th>\n",
       "      <th>sqft_basement</th>\n",
       "      <th>yr_built</th>\n",
       "      <th>yr_renovated</th>\n",
       "      <th>street</th>\n",
       "      <th>city</th>\n",
       "      <th>statezip</th>\n",
       "      <th>country</th>\n",
       "    </tr>\n",
       "  </thead>\n",
       "  <tbody>\n",
       "    <tr>\n",
       "      <th>0</th>\n",
       "      <td>2014-05-02 00:00:00</td>\n",
       "      <td>313000.0</td>\n",
       "      <td>3.0</td>\n",
       "      <td>1.50</td>\n",
       "      <td>1340</td>\n",
       "      <td>7912</td>\n",
       "      <td>1.5</td>\n",
       "      <td>0</td>\n",
       "      <td>0</td>\n",
       "      <td>3</td>\n",
       "      <td>1340</td>\n",
       "      <td>0</td>\n",
       "      <td>1955</td>\n",
       "      <td>2005</td>\n",
       "      <td>18810 Densmore Ave N</td>\n",
       "      <td>Shoreline</td>\n",
       "      <td>WA 98133</td>\n",
       "      <td>USA</td>\n",
       "    </tr>\n",
       "    <tr>\n",
       "      <th>1</th>\n",
       "      <td>2014-05-02 00:00:00</td>\n",
       "      <td>2384000.0</td>\n",
       "      <td>5.0</td>\n",
       "      <td>2.50</td>\n",
       "      <td>3650</td>\n",
       "      <td>9050</td>\n",
       "      <td>2.0</td>\n",
       "      <td>0</td>\n",
       "      <td>4</td>\n",
       "      <td>5</td>\n",
       "      <td>3370</td>\n",
       "      <td>280</td>\n",
       "      <td>1921</td>\n",
       "      <td>0</td>\n",
       "      <td>709 W Blaine St</td>\n",
       "      <td>Seattle</td>\n",
       "      <td>WA 98119</td>\n",
       "      <td>USA</td>\n",
       "    </tr>\n",
       "    <tr>\n",
       "      <th>2</th>\n",
       "      <td>2014-05-02 00:00:00</td>\n",
       "      <td>342000.0</td>\n",
       "      <td>3.0</td>\n",
       "      <td>2.00</td>\n",
       "      <td>1930</td>\n",
       "      <td>11947</td>\n",
       "      <td>1.0</td>\n",
       "      <td>0</td>\n",
       "      <td>0</td>\n",
       "      <td>4</td>\n",
       "      <td>1930</td>\n",
       "      <td>0</td>\n",
       "      <td>1966</td>\n",
       "      <td>0</td>\n",
       "      <td>26206-26214 143rd Ave SE</td>\n",
       "      <td>Kent</td>\n",
       "      <td>WA 98042</td>\n",
       "      <td>USA</td>\n",
       "    </tr>\n",
       "    <tr>\n",
       "      <th>3</th>\n",
       "      <td>2014-05-02 00:00:00</td>\n",
       "      <td>420000.0</td>\n",
       "      <td>3.0</td>\n",
       "      <td>2.25</td>\n",
       "      <td>2000</td>\n",
       "      <td>8030</td>\n",
       "      <td>1.0</td>\n",
       "      <td>0</td>\n",
       "      <td>0</td>\n",
       "      <td>4</td>\n",
       "      <td>1000</td>\n",
       "      <td>1000</td>\n",
       "      <td>1963</td>\n",
       "      <td>0</td>\n",
       "      <td>857 170th Pl NE</td>\n",
       "      <td>Bellevue</td>\n",
       "      <td>WA 98008</td>\n",
       "      <td>USA</td>\n",
       "    </tr>\n",
       "    <tr>\n",
       "      <th>4</th>\n",
       "      <td>2014-05-02 00:00:00</td>\n",
       "      <td>550000.0</td>\n",
       "      <td>4.0</td>\n",
       "      <td>2.50</td>\n",
       "      <td>1940</td>\n",
       "      <td>10500</td>\n",
       "      <td>1.0</td>\n",
       "      <td>0</td>\n",
       "      <td>0</td>\n",
       "      <td>4</td>\n",
       "      <td>1140</td>\n",
       "      <td>800</td>\n",
       "      <td>1976</td>\n",
       "      <td>1992</td>\n",
       "      <td>9105 170th Ave NE</td>\n",
       "      <td>Redmond</td>\n",
       "      <td>WA 98052</td>\n",
       "      <td>USA</td>\n",
       "    </tr>\n",
       "  </tbody>\n",
       "</table>\n",
       "</div>"
      ],
      "text/plain": [
       "                  date      price  bedrooms  bathrooms  sqft_living  sqft_lot  \\\n",
       "0  2014-05-02 00:00:00   313000.0       3.0       1.50         1340      7912   \n",
       "1  2014-05-02 00:00:00  2384000.0       5.0       2.50         3650      9050   \n",
       "2  2014-05-02 00:00:00   342000.0       3.0       2.00         1930     11947   \n",
       "3  2014-05-02 00:00:00   420000.0       3.0       2.25         2000      8030   \n",
       "4  2014-05-02 00:00:00   550000.0       4.0       2.50         1940     10500   \n",
       "\n",
       "   floors  waterfront  view  condition  sqft_above  sqft_basement  yr_built  \\\n",
       "0     1.5           0     0          3        1340              0      1955   \n",
       "1     2.0           0     4          5        3370            280      1921   \n",
       "2     1.0           0     0          4        1930              0      1966   \n",
       "3     1.0           0     0          4        1000           1000      1963   \n",
       "4     1.0           0     0          4        1140            800      1976   \n",
       "\n",
       "   yr_renovated                    street       city  statezip country  \n",
       "0          2005      18810 Densmore Ave N  Shoreline  WA 98133     USA  \n",
       "1             0           709 W Blaine St    Seattle  WA 98119     USA  \n",
       "2             0  26206-26214 143rd Ave SE       Kent  WA 98042     USA  \n",
       "3             0           857 170th Pl NE   Bellevue  WA 98008     USA  \n",
       "4          1992         9105 170th Ave NE    Redmond  WA 98052     USA  "
      ]
     },
     "execution_count": 358,
     "metadata": {},
     "output_type": "execute_result"
    }
   ],
   "source": [
    "df .head()"
   ]
  },
  {
   "cell_type": "markdown",
   "id": "84d4464f-ea81-4cc4-b214-d63cd0f5f4c2",
   "metadata": {},
   "source": [
    "# Data Analysis"
   ]
  },
  {
   "cell_type": "code",
   "execution_count": 359,
   "id": "cdf2b0f4-d77e-4d03-996c-ea54a8da8827",
   "metadata": {},
   "outputs": [
    {
     "data": {
      "text/html": [
       "<div>\n",
       "<style scoped>\n",
       "    .dataframe tbody tr th:only-of-type {\n",
       "        vertical-align: middle;\n",
       "    }\n",
       "\n",
       "    .dataframe tbody tr th {\n",
       "        vertical-align: top;\n",
       "    }\n",
       "\n",
       "    .dataframe thead th {\n",
       "        text-align: right;\n",
       "    }\n",
       "</style>\n",
       "<table border=\"1\" class=\"dataframe\">\n",
       "  <thead>\n",
       "    <tr style=\"text-align: right;\">\n",
       "      <th></th>\n",
       "      <th>price</th>\n",
       "      <th>bedrooms</th>\n",
       "      <th>bathrooms</th>\n",
       "      <th>sqft_living</th>\n",
       "      <th>sqft_lot</th>\n",
       "      <th>floors</th>\n",
       "      <th>waterfront</th>\n",
       "      <th>view</th>\n",
       "      <th>condition</th>\n",
       "      <th>sqft_above</th>\n",
       "      <th>sqft_basement</th>\n",
       "      <th>yr_built</th>\n",
       "      <th>yr_renovated</th>\n",
       "    </tr>\n",
       "  </thead>\n",
       "  <tbody>\n",
       "    <tr>\n",
       "      <th>count</th>\n",
       "      <td>4.600000e+03</td>\n",
       "      <td>4600.000000</td>\n",
       "      <td>4600.000000</td>\n",
       "      <td>4600.000000</td>\n",
       "      <td>4.600000e+03</td>\n",
       "      <td>4600.000000</td>\n",
       "      <td>4600.000000</td>\n",
       "      <td>4600.000000</td>\n",
       "      <td>4600.000000</td>\n",
       "      <td>4600.000000</td>\n",
       "      <td>4600.000000</td>\n",
       "      <td>4600.000000</td>\n",
       "      <td>4600.000000</td>\n",
       "    </tr>\n",
       "    <tr>\n",
       "      <th>mean</th>\n",
       "      <td>5.519630e+05</td>\n",
       "      <td>3.400870</td>\n",
       "      <td>2.160815</td>\n",
       "      <td>2139.346957</td>\n",
       "      <td>1.485252e+04</td>\n",
       "      <td>1.512065</td>\n",
       "      <td>0.007174</td>\n",
       "      <td>0.240652</td>\n",
       "      <td>3.451739</td>\n",
       "      <td>1827.265435</td>\n",
       "      <td>312.081522</td>\n",
       "      <td>1970.786304</td>\n",
       "      <td>808.608261</td>\n",
       "    </tr>\n",
       "    <tr>\n",
       "      <th>std</th>\n",
       "      <td>5.638347e+05</td>\n",
       "      <td>0.908848</td>\n",
       "      <td>0.783781</td>\n",
       "      <td>963.206916</td>\n",
       "      <td>3.588444e+04</td>\n",
       "      <td>0.538288</td>\n",
       "      <td>0.084404</td>\n",
       "      <td>0.778405</td>\n",
       "      <td>0.677230</td>\n",
       "      <td>862.168977</td>\n",
       "      <td>464.137228</td>\n",
       "      <td>29.731848</td>\n",
       "      <td>979.414536</td>\n",
       "    </tr>\n",
       "    <tr>\n",
       "      <th>min</th>\n",
       "      <td>0.000000e+00</td>\n",
       "      <td>0.000000</td>\n",
       "      <td>0.000000</td>\n",
       "      <td>370.000000</td>\n",
       "      <td>6.380000e+02</td>\n",
       "      <td>1.000000</td>\n",
       "      <td>0.000000</td>\n",
       "      <td>0.000000</td>\n",
       "      <td>1.000000</td>\n",
       "      <td>370.000000</td>\n",
       "      <td>0.000000</td>\n",
       "      <td>1900.000000</td>\n",
       "      <td>0.000000</td>\n",
       "    </tr>\n",
       "    <tr>\n",
       "      <th>25%</th>\n",
       "      <td>3.228750e+05</td>\n",
       "      <td>3.000000</td>\n",
       "      <td>1.750000</td>\n",
       "      <td>1460.000000</td>\n",
       "      <td>5.000750e+03</td>\n",
       "      <td>1.000000</td>\n",
       "      <td>0.000000</td>\n",
       "      <td>0.000000</td>\n",
       "      <td>3.000000</td>\n",
       "      <td>1190.000000</td>\n",
       "      <td>0.000000</td>\n",
       "      <td>1951.000000</td>\n",
       "      <td>0.000000</td>\n",
       "    </tr>\n",
       "    <tr>\n",
       "      <th>50%</th>\n",
       "      <td>4.609435e+05</td>\n",
       "      <td>3.000000</td>\n",
       "      <td>2.250000</td>\n",
       "      <td>1980.000000</td>\n",
       "      <td>7.683000e+03</td>\n",
       "      <td>1.500000</td>\n",
       "      <td>0.000000</td>\n",
       "      <td>0.000000</td>\n",
       "      <td>3.000000</td>\n",
       "      <td>1590.000000</td>\n",
       "      <td>0.000000</td>\n",
       "      <td>1976.000000</td>\n",
       "      <td>0.000000</td>\n",
       "    </tr>\n",
       "    <tr>\n",
       "      <th>75%</th>\n",
       "      <td>6.549625e+05</td>\n",
       "      <td>4.000000</td>\n",
       "      <td>2.500000</td>\n",
       "      <td>2620.000000</td>\n",
       "      <td>1.100125e+04</td>\n",
       "      <td>2.000000</td>\n",
       "      <td>0.000000</td>\n",
       "      <td>0.000000</td>\n",
       "      <td>4.000000</td>\n",
       "      <td>2300.000000</td>\n",
       "      <td>610.000000</td>\n",
       "      <td>1997.000000</td>\n",
       "      <td>1999.000000</td>\n",
       "    </tr>\n",
       "    <tr>\n",
       "      <th>max</th>\n",
       "      <td>2.659000e+07</td>\n",
       "      <td>9.000000</td>\n",
       "      <td>8.000000</td>\n",
       "      <td>13540.000000</td>\n",
       "      <td>1.074218e+06</td>\n",
       "      <td>3.500000</td>\n",
       "      <td>1.000000</td>\n",
       "      <td>4.000000</td>\n",
       "      <td>5.000000</td>\n",
       "      <td>9410.000000</td>\n",
       "      <td>4820.000000</td>\n",
       "      <td>2014.000000</td>\n",
       "      <td>2014.000000</td>\n",
       "    </tr>\n",
       "  </tbody>\n",
       "</table>\n",
       "</div>"
      ],
      "text/plain": [
       "              price     bedrooms    bathrooms   sqft_living      sqft_lot  \\\n",
       "count  4.600000e+03  4600.000000  4600.000000   4600.000000  4.600000e+03   \n",
       "mean   5.519630e+05     3.400870     2.160815   2139.346957  1.485252e+04   \n",
       "std    5.638347e+05     0.908848     0.783781    963.206916  3.588444e+04   \n",
       "min    0.000000e+00     0.000000     0.000000    370.000000  6.380000e+02   \n",
       "25%    3.228750e+05     3.000000     1.750000   1460.000000  5.000750e+03   \n",
       "50%    4.609435e+05     3.000000     2.250000   1980.000000  7.683000e+03   \n",
       "75%    6.549625e+05     4.000000     2.500000   2620.000000  1.100125e+04   \n",
       "max    2.659000e+07     9.000000     8.000000  13540.000000  1.074218e+06   \n",
       "\n",
       "            floors   waterfront         view    condition   sqft_above  \\\n",
       "count  4600.000000  4600.000000  4600.000000  4600.000000  4600.000000   \n",
       "mean      1.512065     0.007174     0.240652     3.451739  1827.265435   \n",
       "std       0.538288     0.084404     0.778405     0.677230   862.168977   \n",
       "min       1.000000     0.000000     0.000000     1.000000   370.000000   \n",
       "25%       1.000000     0.000000     0.000000     3.000000  1190.000000   \n",
       "50%       1.500000     0.000000     0.000000     3.000000  1590.000000   \n",
       "75%       2.000000     0.000000     0.000000     4.000000  2300.000000   \n",
       "max       3.500000     1.000000     4.000000     5.000000  9410.000000   \n",
       "\n",
       "       sqft_basement     yr_built  yr_renovated  \n",
       "count    4600.000000  4600.000000   4600.000000  \n",
       "mean      312.081522  1970.786304    808.608261  \n",
       "std       464.137228    29.731848    979.414536  \n",
       "min         0.000000  1900.000000      0.000000  \n",
       "25%         0.000000  1951.000000      0.000000  \n",
       "50%         0.000000  1976.000000      0.000000  \n",
       "75%       610.000000  1997.000000   1999.000000  \n",
       "max      4820.000000  2014.000000   2014.000000  "
      ]
     },
     "execution_count": 359,
     "metadata": {},
     "output_type": "execute_result"
    }
   ],
   "source": [
    "df.describe() #statistical analysis"
   ]
  },
  {
   "cell_type": "code",
   "execution_count": 360,
   "id": "e490d392-6663-47ba-9b3b-a3103e683939",
   "metadata": {},
   "outputs": [
    {
     "name": "stdout",
     "output_type": "stream",
     "text": [
      "<class 'pandas.core.frame.DataFrame'>\n",
      "RangeIndex: 4600 entries, 0 to 4599\n",
      "Data columns (total 18 columns):\n",
      " #   Column         Non-Null Count  Dtype  \n",
      "---  ------         --------------  -----  \n",
      " 0   date           4600 non-null   object \n",
      " 1   price          4600 non-null   float64\n",
      " 2   bedrooms       4600 non-null   float64\n",
      " 3   bathrooms      4600 non-null   float64\n",
      " 4   sqft_living    4600 non-null   int64  \n",
      " 5   sqft_lot       4600 non-null   int64  \n",
      " 6   floors         4600 non-null   float64\n",
      " 7   waterfront     4600 non-null   int64  \n",
      " 8   view           4600 non-null   int64  \n",
      " 9   condition      4600 non-null   int64  \n",
      " 10  sqft_above     4600 non-null   int64  \n",
      " 11  sqft_basement  4600 non-null   int64  \n",
      " 12  yr_built       4600 non-null   int64  \n",
      " 13  yr_renovated   4600 non-null   int64  \n",
      " 14  street         4600 non-null   object \n",
      " 15  city           4600 non-null   object \n",
      " 16  statezip       4600 non-null   object \n",
      " 17  country        4600 non-null   object \n",
      "dtypes: float64(4), int64(9), object(5)\n",
      "memory usage: 647.0+ KB\n"
     ]
    }
   ],
   "source": [
    "df.info() # #basic idea that we get from the data"
   ]
  },
  {
   "cell_type": "code",
   "execution_count": 361,
   "id": "e7b7e6ca-7aed-471c-a336-bcc912ed71c0",
   "metadata": {},
   "outputs": [
    {
     "data": {
      "text/plain": [
       "date             0\n",
       "price            0\n",
       "bedrooms         0\n",
       "bathrooms        0\n",
       "sqft_living      0\n",
       "sqft_lot         0\n",
       "floors           0\n",
       "waterfront       0\n",
       "view             0\n",
       "condition        0\n",
       "sqft_above       0\n",
       "sqft_basement    0\n",
       "yr_built         0\n",
       "yr_renovated     0\n",
       "street           0\n",
       "city             0\n",
       "statezip         0\n",
       "country          0\n",
       "dtype: int64"
      ]
     },
     "execution_count": 361,
     "metadata": {},
     "output_type": "execute_result"
    }
   ],
   "source": [
    "# using isnull() function to see if any null data is available in the data set \n",
    "df.isnull().sum()"
   ]
  },
  {
   "cell_type": "markdown",
   "id": "6f90d437-6856-475d-b1c6-346f18de93e0",
   "metadata": {},
   "source": [
    "# Data Processing"
   ]
  },
  {
   "cell_type": "markdown",
   "id": "4dde74c0-9270-4e1b-842b-721d35f17c9c",
   "metadata": {},
   "source": [
    "## Removing the columns that are not required for the analysis"
   ]
  },
  {
   "cell_type": "code",
   "execution_count": 362,
   "id": "9aaf4c77-0fe6-4b04-af28-c6e634f1f85a",
   "metadata": {},
   "outputs": [
    {
     "data": {
      "text/html": [
       "<div>\n",
       "<style scoped>\n",
       "    .dataframe tbody tr th:only-of-type {\n",
       "        vertical-align: middle;\n",
       "    }\n",
       "\n",
       "    .dataframe tbody tr th {\n",
       "        vertical-align: top;\n",
       "    }\n",
       "\n",
       "    .dataframe thead th {\n",
       "        text-align: right;\n",
       "    }\n",
       "</style>\n",
       "<table border=\"1\" class=\"dataframe\">\n",
       "  <thead>\n",
       "    <tr style=\"text-align: right;\">\n",
       "      <th></th>\n",
       "      <th>price</th>\n",
       "      <th>bedrooms</th>\n",
       "      <th>bathrooms</th>\n",
       "      <th>sqft_living</th>\n",
       "      <th>sqft_lot</th>\n",
       "      <th>floors</th>\n",
       "      <th>waterfront</th>\n",
       "      <th>view</th>\n",
       "      <th>condition</th>\n",
       "      <th>sqft_above</th>\n",
       "      <th>sqft_basement</th>\n",
       "      <th>yr_built</th>\n",
       "      <th>yr_renovated</th>\n",
       "      <th>city</th>\n",
       "    </tr>\n",
       "  </thead>\n",
       "  <tbody>\n",
       "    <tr>\n",
       "      <th>0</th>\n",
       "      <td>313000.0</td>\n",
       "      <td>3.0</td>\n",
       "      <td>1.50</td>\n",
       "      <td>1340</td>\n",
       "      <td>7912</td>\n",
       "      <td>1.5</td>\n",
       "      <td>0</td>\n",
       "      <td>0</td>\n",
       "      <td>3</td>\n",
       "      <td>1340</td>\n",
       "      <td>0</td>\n",
       "      <td>1955</td>\n",
       "      <td>2005</td>\n",
       "      <td>Shoreline</td>\n",
       "    </tr>\n",
       "    <tr>\n",
       "      <th>1</th>\n",
       "      <td>2384000.0</td>\n",
       "      <td>5.0</td>\n",
       "      <td>2.50</td>\n",
       "      <td>3650</td>\n",
       "      <td>9050</td>\n",
       "      <td>2.0</td>\n",
       "      <td>0</td>\n",
       "      <td>4</td>\n",
       "      <td>5</td>\n",
       "      <td>3370</td>\n",
       "      <td>280</td>\n",
       "      <td>1921</td>\n",
       "      <td>0</td>\n",
       "      <td>Seattle</td>\n",
       "    </tr>\n",
       "    <tr>\n",
       "      <th>2</th>\n",
       "      <td>342000.0</td>\n",
       "      <td>3.0</td>\n",
       "      <td>2.00</td>\n",
       "      <td>1930</td>\n",
       "      <td>11947</td>\n",
       "      <td>1.0</td>\n",
       "      <td>0</td>\n",
       "      <td>0</td>\n",
       "      <td>4</td>\n",
       "      <td>1930</td>\n",
       "      <td>0</td>\n",
       "      <td>1966</td>\n",
       "      <td>0</td>\n",
       "      <td>Kent</td>\n",
       "    </tr>\n",
       "    <tr>\n",
       "      <th>3</th>\n",
       "      <td>420000.0</td>\n",
       "      <td>3.0</td>\n",
       "      <td>2.25</td>\n",
       "      <td>2000</td>\n",
       "      <td>8030</td>\n",
       "      <td>1.0</td>\n",
       "      <td>0</td>\n",
       "      <td>0</td>\n",
       "      <td>4</td>\n",
       "      <td>1000</td>\n",
       "      <td>1000</td>\n",
       "      <td>1963</td>\n",
       "      <td>0</td>\n",
       "      <td>Bellevue</td>\n",
       "    </tr>\n",
       "    <tr>\n",
       "      <th>4</th>\n",
       "      <td>550000.0</td>\n",
       "      <td>4.0</td>\n",
       "      <td>2.50</td>\n",
       "      <td>1940</td>\n",
       "      <td>10500</td>\n",
       "      <td>1.0</td>\n",
       "      <td>0</td>\n",
       "      <td>0</td>\n",
       "      <td>4</td>\n",
       "      <td>1140</td>\n",
       "      <td>800</td>\n",
       "      <td>1976</td>\n",
       "      <td>1992</td>\n",
       "      <td>Redmond</td>\n",
       "    </tr>\n",
       "  </tbody>\n",
       "</table>\n",
       "</div>"
      ],
      "text/plain": [
       "       price  bedrooms  bathrooms  sqft_living  sqft_lot  floors  waterfront  \\\n",
       "0   313000.0       3.0       1.50         1340      7912     1.5           0   \n",
       "1  2384000.0       5.0       2.50         3650      9050     2.0           0   \n",
       "2   342000.0       3.0       2.00         1930     11947     1.0           0   \n",
       "3   420000.0       3.0       2.25         2000      8030     1.0           0   \n",
       "4   550000.0       4.0       2.50         1940     10500     1.0           0   \n",
       "\n",
       "   view  condition  sqft_above  sqft_basement  yr_built  yr_renovated  \\\n",
       "0     0          3        1340              0      1955          2005   \n",
       "1     4          5        3370            280      1921             0   \n",
       "2     0          4        1930              0      1966             0   \n",
       "3     0          4        1000           1000      1963             0   \n",
       "4     0          4        1140            800      1976          1992   \n",
       "\n",
       "        city  \n",
       "0  Shoreline  \n",
       "1    Seattle  \n",
       "2       Kent  \n",
       "3   Bellevue  \n",
       "4    Redmond  "
      ]
     },
     "execution_count": 362,
     "metadata": {},
     "output_type": "execute_result"
    }
   ],
   "source": [
    "# Dropping the fields Date, Street, Satezip, country.\n",
    "\n",
    "df.drop(df.columns[[0, 14,16,17]], axis=1, inplace=True)\n",
    "df.head()"
   ]
  },
  {
   "cell_type": "code",
   "execution_count": 363,
   "id": "45c08389-4471-4511-a97d-1c92bb567f28",
   "metadata": {},
   "outputs": [
    {
     "name": "stdout",
     "output_type": "stream",
     "text": [
      "<class 'pandas.core.frame.DataFrame'>\n",
      "RangeIndex: 4600 entries, 0 to 4599\n",
      "Data columns (total 14 columns):\n",
      " #   Column         Non-Null Count  Dtype  \n",
      "---  ------         --------------  -----  \n",
      " 0   price          4600 non-null   float64\n",
      " 1   bedrooms       4600 non-null   float64\n",
      " 2   bathrooms      4600 non-null   float64\n",
      " 3   sqft_living    4600 non-null   int64  \n",
      " 4   sqft_lot       4600 non-null   int64  \n",
      " 5   floors         4600 non-null   float64\n",
      " 6   waterfront     4600 non-null   int64  \n",
      " 7   view           4600 non-null   int64  \n",
      " 8   condition      4600 non-null   int64  \n",
      " 9   sqft_above     4600 non-null   int64  \n",
      " 10  sqft_basement  4600 non-null   int64  \n",
      " 11  yr_built       4600 non-null   int64  \n",
      " 12  yr_renovated   4600 non-null   int64  \n",
      " 13  city           4600 non-null   object \n",
      "dtypes: float64(4), int64(9), object(1)\n",
      "memory usage: 503.2+ KB\n"
     ]
    }
   ],
   "source": [
    "df .info() # To find if there is any column that is not int or float."
   ]
  },
  {
   "cell_type": "markdown",
   "id": "02a72155-2c9e-40a7-86fd-a462b0c17ef2",
   "metadata": {},
   "source": [
    "# Converting categorical variables of the dataset into numerical variables - using ONE HOT ENCODING technique"
   ]
  },
  {
   "cell_type": "code",
   "execution_count": 364,
   "id": "54e1a4cf-329b-4e3f-a936-6c494422122f",
   "metadata": {},
   "outputs": [
    {
     "data": {
      "text/plain": [
       "array(['Shoreline', 'Seattle', 'Kent', 'Bellevue', 'Redmond',\n",
       "       'Maple Valley', 'North Bend', 'Lake Forest Park', 'Sammamish',\n",
       "       'Auburn', 'Des Moines', 'Bothell', 'Federal Way', 'Kirkland',\n",
       "       'Issaquah', 'Woodinville', 'Normandy Park', 'Fall City', 'Renton',\n",
       "       'Carnation', 'Snoqualmie', 'Duvall', 'Burien', 'Covington',\n",
       "       'Inglewood-Finn Hill', 'Kenmore', 'Newcastle', 'Mercer Island',\n",
       "       'Black Diamond', 'Ravensdale', 'Clyde Hill', 'Algona', 'Skykomish',\n",
       "       'Tukwila', 'Vashon', 'Yarrow Point', 'SeaTac', 'Medina',\n",
       "       'Enumclaw', 'Snoqualmie Pass', 'Pacific', 'Beaux Arts Village',\n",
       "       'Preston', 'Milton'], dtype=object)"
      ]
     },
     "execution_count": 364,
     "metadata": {},
     "output_type": "execute_result"
    }
   ],
   "source": [
    "df.city.unique()"
   ]
  },
  {
   "cell_type": "code",
   "execution_count": 365,
   "id": "0f7e81d7-06b9-4f2e-b6ea-f17dd43d1356",
   "metadata": {},
   "outputs": [],
   "source": [
    "df['city']=df['city'].apply({'Shoreline':0,'Seattle':1,'Kent':2,'Bellevue':3,'Redmond':4,'Maple Valley':5,'North Bend':6,'Lake Forest Park':7,\n",
    "                                 'Sammamish':8,'Auburn':9,'Des Moines':10,'Bothell':11,'Federal Way':12,'Kirkland':13,'Issaquah':14,\n",
    "                                 'Woodinville':15,'Normandy Park':16,'Fall City':17,'Renton':18,'Carnation':19,'Snoqualmie':20,\n",
    "                                 'Duvall':21,'Burien':22,'Covington':23,'Inglewood-Finn Hill':24,'Kenmore':25,'Newcastle':26,'Mercer Island':27,\n",
    "                                 'Black Diamond':28,'Ravensdale':29,'Clyde Hill':30,'Algona':31,'Skykomish':32,'Tukwila':33,'Vashon':34,\n",
    "                                 'Yarrow Point':35,'SeaTac':36,'Medina':37,'Enumclaw':38,'Snoqualmie Pass':39,'Pacific':40,'Beaux Arts Village':41,\n",
    "                                'Preston':42,'Milton':43}.get)"
   ]
  },
  {
   "cell_type": "code",
   "execution_count": 366,
   "id": "cd32cd28-0468-47e3-bfec-6771fded6e5f",
   "metadata": {},
   "outputs": [
    {
     "data": {
      "text/html": [
       "<div>\n",
       "<style scoped>\n",
       "    .dataframe tbody tr th:only-of-type {\n",
       "        vertical-align: middle;\n",
       "    }\n",
       "\n",
       "    .dataframe tbody tr th {\n",
       "        vertical-align: top;\n",
       "    }\n",
       "\n",
       "    .dataframe thead th {\n",
       "        text-align: right;\n",
       "    }\n",
       "</style>\n",
       "<table border=\"1\" class=\"dataframe\">\n",
       "  <thead>\n",
       "    <tr style=\"text-align: right;\">\n",
       "      <th></th>\n",
       "      <th>price</th>\n",
       "      <th>bedrooms</th>\n",
       "      <th>bathrooms</th>\n",
       "      <th>sqft_living</th>\n",
       "      <th>sqft_lot</th>\n",
       "      <th>floors</th>\n",
       "      <th>waterfront</th>\n",
       "      <th>view</th>\n",
       "      <th>condition</th>\n",
       "      <th>sqft_above</th>\n",
       "      <th>sqft_basement</th>\n",
       "      <th>yr_built</th>\n",
       "      <th>yr_renovated</th>\n",
       "      <th>city</th>\n",
       "    </tr>\n",
       "  </thead>\n",
       "  <tbody>\n",
       "    <tr>\n",
       "      <th>0</th>\n",
       "      <td>313000.0</td>\n",
       "      <td>3.0</td>\n",
       "      <td>1.50</td>\n",
       "      <td>1340</td>\n",
       "      <td>7912</td>\n",
       "      <td>1.5</td>\n",
       "      <td>0</td>\n",
       "      <td>0</td>\n",
       "      <td>3</td>\n",
       "      <td>1340</td>\n",
       "      <td>0</td>\n",
       "      <td>1955</td>\n",
       "      <td>2005</td>\n",
       "      <td>0</td>\n",
       "    </tr>\n",
       "    <tr>\n",
       "      <th>1</th>\n",
       "      <td>2384000.0</td>\n",
       "      <td>5.0</td>\n",
       "      <td>2.50</td>\n",
       "      <td>3650</td>\n",
       "      <td>9050</td>\n",
       "      <td>2.0</td>\n",
       "      <td>0</td>\n",
       "      <td>4</td>\n",
       "      <td>5</td>\n",
       "      <td>3370</td>\n",
       "      <td>280</td>\n",
       "      <td>1921</td>\n",
       "      <td>0</td>\n",
       "      <td>1</td>\n",
       "    </tr>\n",
       "    <tr>\n",
       "      <th>2</th>\n",
       "      <td>342000.0</td>\n",
       "      <td>3.0</td>\n",
       "      <td>2.00</td>\n",
       "      <td>1930</td>\n",
       "      <td>11947</td>\n",
       "      <td>1.0</td>\n",
       "      <td>0</td>\n",
       "      <td>0</td>\n",
       "      <td>4</td>\n",
       "      <td>1930</td>\n",
       "      <td>0</td>\n",
       "      <td>1966</td>\n",
       "      <td>0</td>\n",
       "      <td>2</td>\n",
       "    </tr>\n",
       "    <tr>\n",
       "      <th>3</th>\n",
       "      <td>420000.0</td>\n",
       "      <td>3.0</td>\n",
       "      <td>2.25</td>\n",
       "      <td>2000</td>\n",
       "      <td>8030</td>\n",
       "      <td>1.0</td>\n",
       "      <td>0</td>\n",
       "      <td>0</td>\n",
       "      <td>4</td>\n",
       "      <td>1000</td>\n",
       "      <td>1000</td>\n",
       "      <td>1963</td>\n",
       "      <td>0</td>\n",
       "      <td>3</td>\n",
       "    </tr>\n",
       "    <tr>\n",
       "      <th>4</th>\n",
       "      <td>550000.0</td>\n",
       "      <td>4.0</td>\n",
       "      <td>2.50</td>\n",
       "      <td>1940</td>\n",
       "      <td>10500</td>\n",
       "      <td>1.0</td>\n",
       "      <td>0</td>\n",
       "      <td>0</td>\n",
       "      <td>4</td>\n",
       "      <td>1140</td>\n",
       "      <td>800</td>\n",
       "      <td>1976</td>\n",
       "      <td>1992</td>\n",
       "      <td>4</td>\n",
       "    </tr>\n",
       "  </tbody>\n",
       "</table>\n",
       "</div>"
      ],
      "text/plain": [
       "       price  bedrooms  bathrooms  sqft_living  sqft_lot  floors  waterfront  \\\n",
       "0   313000.0       3.0       1.50         1340      7912     1.5           0   \n",
       "1  2384000.0       5.0       2.50         3650      9050     2.0           0   \n",
       "2   342000.0       3.0       2.00         1930     11947     1.0           0   \n",
       "3   420000.0       3.0       2.25         2000      8030     1.0           0   \n",
       "4   550000.0       4.0       2.50         1940     10500     1.0           0   \n",
       "\n",
       "   view  condition  sqft_above  sqft_basement  yr_built  yr_renovated  city  \n",
       "0     0          3        1340              0      1955          2005     0  \n",
       "1     4          5        3370            280      1921             0     1  \n",
       "2     0          4        1930              0      1966             0     2  \n",
       "3     0          4        1000           1000      1963             0     3  \n",
       "4     0          4        1140            800      1976          1992     4  "
      ]
     },
     "execution_count": 366,
     "metadata": {},
     "output_type": "execute_result"
    }
   ],
   "source": [
    "df.head()"
   ]
  },
  {
   "cell_type": "markdown",
   "id": "0ab6244f-56b7-44f6-b78f-4da302230135",
   "metadata": {},
   "source": [
    "Multiple Features (N-Dimensional)"
   ]
  },
  {
   "cell_type": "code",
   "execution_count": 367,
   "id": "7137a1c7-8552-42be-8eff-b5a6fce44baf",
   "metadata": {},
   "outputs": [
    {
     "data": {
      "image/png": "[encoded data removed]",
      "text/plain": [
       "<Figure size 1152x432 with 4 Axes>"
      ]
     },
     "metadata": {
      "needs_background": "light"
     },
     "output_type": "display_data"
    }
   ],
   "source": [
    "fig,axes = plt.subplots(nrows=1,ncols=4,figsize=(16,6))\n",
    "\n",
    "axes[0].plot(df['sqft_living'],df['price'],'o')\n",
    "axes[0].set_ylabel(\"price\")\n",
    "axes[0].set_title(\"Analysis sqft_living\")\n",
    "\n",
    "axes[1].plot(df['sqft_above'],df['price'],'o')\n",
    "axes[1].set_ylabel(\"price\")\n",
    "axes[1].set_title(\"Analysis sqft_above\")\n",
    "\n",
    "axes[2].plot(df['yr_renovated'],df['price'],'o')\n",
    "axes[2].set_title(\"Analysis yr_renovated\");\n",
    "axes[2].set_ylabel(\"price\")\n",
    "\n",
    "axes[3].plot(df['yr_built'],df['price'],'o')\n",
    "axes[3].set_ylabel(\"price\")\n",
    "axes[3].set_title(\"Analysis yr_built\")\n",
    "plt.tight_layout();"
   ]
  },
  {
   "cell_type": "code",
   "execution_count": 368,
   "id": "f707f519-b271-4933-bd57-3fe8d87259e6",
   "metadata": {},
   "outputs": [],
   "source": [
    "# Relationships between features\n",
    "# sns.pairplot(df,diag_kind='kde')"
   ]
  },
  {
   "cell_type": "markdown",
   "id": "ac6f2969-457c-476a-9afc-b13d271dd538",
   "metadata": {},
   "source": [
    "# Dividing Dataset into Dependent and Independent columns"
   ]
  },
  {
   "cell_type": "code",
   "execution_count": 369,
   "id": "5c1ce09f-35ef-4a4c-84ff-79b3ea86b21c",
   "metadata": {},
   "outputs": [],
   "source": [
    "X= df.drop('price',axis=1)\n",
    "y=df['price']"
   ]
  },
  {
   "cell_type": "markdown",
   "id": "f561a70e-6699-427c-a8a0-47cebaf1be9a",
   "metadata": {},
   "source": [
    "# Polynomial Conversion"
   ]
  },
  {
   "cell_type": "code",
   "execution_count": 370,
   "id": "b93772f4-704b-4f9f-9df8-d7846e8f1ce2",
   "metadata": {},
   "outputs": [],
   "source": [
    "from sklearn.preprocessing import PolynomialFeatures"
   ]
  },
  {
   "cell_type": "code",
   "execution_count": 371,
   "id": "88c8886d-5951-4afd-abce-26f2692a243e",
   "metadata": {},
   "outputs": [],
   "source": [
    "polynomial_converter = PolynomialFeatures(degree=1,include_bias=False)"
   ]
  },
  {
   "cell_type": "code",
   "execution_count": 372,
   "id": "58bf26b9-d2cb-49c9-a890-7d40d3bb1a72",
   "metadata": {},
   "outputs": [],
   "source": [
    "poly_features = polynomial_converter.fit_transform(X)"
   ]
  },
  {
   "cell_type": "markdown",
   "id": "f269e6bd-0be4-40ae-a1e8-2e4efdaf0fd8",
   "metadata": {},
   "source": [
    "# Splitting the dataset into training and testing set"
   ]
  },
  {
   "cell_type": "code",
   "execution_count": 373,
   "id": "1e8091d2-263e-4452-8fce-edea73286ea4",
   "metadata": {},
   "outputs": [],
   "source": [
    "from sklearn.model_selection import train_test_split"
   ]
  },
  {
   "cell_type": "code",
   "execution_count": 374,
   "id": "b21ea1c9-1d9b-4eac-9f13-a91a45507258",
   "metadata": {},
   "outputs": [],
   "source": [
    "X_train, X_test, y_train, y_test = train_test_split(X, y, test_size=0.3, random_state=101)"
   ]
  },
  {
   "cell_type": "markdown",
   "id": "e2c96502-81af-43ef-a774-7b5ba9865aed",
   "metadata": {},
   "source": [
    "## Scaling the Data"
   ]
  },
  {
   "cell_type": "markdown",
   "id": "c33d1140-4f40-4af7-a9c9-db381ee76bd3",
   "metadata": {},
   "source": [
    "While our particular data set has all the values in the same order of magnitude, typically that won't be the case on a dataset, and since the mathematics behind regularized models will sum coefficients together, its important to standardize the features."
   ]
  },
  {
   "cell_type": "code",
   "execution_count": 375,
   "id": "8945e5ad-e1ad-49e4-ac51-2e94f525c624",
   "metadata": {},
   "outputs": [],
   "source": [
    "from sklearn.preprocessing import StandardScaler"
   ]
  },
  {
   "cell_type": "code",
   "execution_count": 376,
   "id": "16d991fa-357f-4494-b3c2-5bd9d7798d24",
   "metadata": {},
   "outputs": [],
   "source": [
    "scaler = StandardScaler()"
   ]
  },
  {
   "cell_type": "code",
   "execution_count": 377,
   "id": "1342ce73-881f-4b7a-96f9-32257971d323",
   "metadata": {},
   "outputs": [
    {
     "data": {
      "text/plain": [
       "StandardScaler()"
      ]
     },
     "execution_count": 377,
     "metadata": {},
     "output_type": "execute_result"
    }
   ],
   "source": [
    "scaler.fit(X_train)"
   ]
  },
  {
   "cell_type": "code",
   "execution_count": 378,
   "id": "7e9280e3-5dfe-4e02-b750-565d6abad945",
   "metadata": {},
   "outputs": [],
   "source": [
    "X_train = scaler.transform(X_train)"
   ]
  },
  {
   "cell_type": "code",
   "execution_count": 379,
   "id": "d50ed8c6-39d6-42d8-ac2b-3a870490a29a",
   "metadata": {},
   "outputs": [],
   "source": [
    "X_test = scaler.transform(X_test)"
   ]
  },
  {
   "cell_type": "markdown",
   "id": "560ccb58-d8b6-4a31-9c30-c9039516c25a",
   "metadata": {},
   "source": [
    "# Ridge Regression"
   ]
  },
  {
   "cell_type": "code",
   "execution_count": 380,
   "id": "de7993b9-6996-4753-835a-a337797b3733",
   "metadata": {},
   "outputs": [],
   "source": [
    "from sklearn.linear_model import Ridge"
   ]
  },
  {
   "cell_type": "code",
   "execution_count": 381,
   "id": "23d787e5-bb22-4f62-8d81-3d1b89f9c6cd",
   "metadata": {},
   "outputs": [],
   "source": [
    "ridge_model = Ridge(alpha=10)"
   ]
  },
  {
   "cell_type": "code",
   "execution_count": 382,
   "id": "f1fbea10-ade7-47f9-9228-e1e2b8351e1b",
   "metadata": {},
   "outputs": [
    {
     "data": {
      "text/plain": [
       "Ridge(alpha=10)"
      ]
     },
     "execution_count": 382,
     "metadata": {},
     "output_type": "execute_result"
    }
   ],
   "source": [
    "ridge_model.fit(X_train,y_train)"
   ]
  },
  {
   "cell_type": "code",
   "execution_count": 383,
   "id": "70f70b24-e1b2-4fb0-b742-b541fdd63d32",
   "metadata": {},
   "outputs": [],
   "source": [
    "test_predictions = ridge_model.predict(X_test)"
   ]
  },
  {
   "cell_type": "code",
   "execution_count": 384,
   "id": "f2790fbb-edda-4ca4-a931-9bfd632f9226",
   "metadata": {},
   "outputs": [],
   "source": [
    "from sklearn.metrics import mean_absolute_error,mean_squared_error"
   ]
  },
  {
   "cell_type": "code",
   "execution_count": 385,
   "id": "e067f571-c549-471e-a40b-8b52547b8f0f",
   "metadata": {},
   "outputs": [],
   "source": [
    "MAE = mean_absolute_error(y_test,test_predictions)\n",
    "MSE = mean_squared_error(y_test,test_predictions)\n",
    "RMSE = np.sqrt(MSE)"
   ]
  },
  {
   "cell_type": "code",
   "execution_count": 386,
   "id": "f0f660f1-7b0e-4cad-99aa-b6579a3f74c0",
   "metadata": {},
   "outputs": [
    {
     "name": "stdout",
     "output_type": "stream",
     "text": [
      "MAE= 165505.68815624694, MSE= 177671452724.8825, RMSE= 421510.9164955073\n"
     ]
    }
   ],
   "source": [
    "print (f\"MAE= {MAE}, MSE= {MSE}, RMSE= {RMSE}\")"
   ]
  },
  {
   "cell_type": "markdown",
   "id": "ac23f5d9-4708-4ff6-8e33-3db4a140d5b7",
   "metadata": {},
   "source": [
    "How did it perform on the training set? (This will be used later on for comparison)"
   ]
  },
  {
   "cell_type": "code",
   "execution_count": 387,
   "id": "8eca3dd2-58a7-4865-9c6c-0dd489d73a05",
   "metadata": {},
   "outputs": [
    {
     "data": {
      "text/plain": [
       "165578.18449180294"
      ]
     },
     "execution_count": 387,
     "metadata": {},
     "output_type": "execute_result"
    }
   ],
   "source": [
    "# Training Set Performance\n",
    "train_predictions = ridge_model.predict(X_train)\n",
    "MAE = mean_absolute_error(y_train,train_predictions)\n",
    "MAE"
   ]
  },
  {
   "cell_type": "markdown",
   "id": "7ed38295-6f99-4a56-b21f-06fe1c72e9ac",
   "metadata": {},
   "source": [
    "Choosing an alpha value with Cross-Validation"
   ]
  },
  {
   "cell_type": "code",
   "execution_count": 388,
   "id": "913d5fbf-4f1f-4f2c-a811-b5b70ae533d2",
   "metadata": {},
   "outputs": [],
   "source": [
    "from sklearn.linear_model import RidgeCV"
   ]
  },
  {
   "cell_type": "code",
   "execution_count": 389,
   "id": "09051dd6-9369-4148-bab9-f2548d72951e",
   "metadata": {},
   "outputs": [],
   "source": [
    "# Choosing a scoring: https://scikit-learn.org/stable/modules/model_evaluation.html\n",
    "# Negative RMSE so all metrics follow convention \"Higher is better\"\n",
    "\n",
    "# See all options: sklearn.metrics.SCORERS.keys()\n",
    "ridge_cv_model = RidgeCV(alphas=(0.1, 1.0, 10.0),scoring='neg_mean_absolute_error')"
   ]
  },
  {
   "cell_type": "code",
   "execution_count": 390,
   "id": "64127531-750b-46f9-8f80-46ea4a23985d",
   "metadata": {},
   "outputs": [
    {
     "data": {
      "text/plain": [
       "RidgeCV(alphas=array([ 0.1,  1. , 10. ]), scoring='neg_mean_absolute_error')"
      ]
     },
     "execution_count": 390,
     "metadata": {},
     "output_type": "execute_result"
    }
   ],
   "source": [
    "# The more alpha options you pass, the longer this will take.\n",
    "# Fortunately our data set is still pretty small\n",
    "ridge_cv_model.fit(X_train,y_train)"
   ]
  },
  {
   "cell_type": "code",
   "execution_count": 391,
   "id": "88ee43b4-7a74-4b60-b841-fe7fa61b15d7",
   "metadata": {},
   "outputs": [
    {
     "data": {
      "text/plain": [
       "10.0"
      ]
     },
     "execution_count": 391,
     "metadata": {},
     "output_type": "execute_result"
    }
   ],
   "source": [
    "ridge_cv_model.alpha_"
   ]
  },
  {
   "cell_type": "code",
   "execution_count": 392,
   "id": "7735d869-d527-42a9-bedb-938686c1ecb8",
   "metadata": {},
   "outputs": [],
   "source": [
    "test_predictions = ridge_cv_model.predict(X_test)"
   ]
  },
  {
   "cell_type": "code",
   "execution_count": 393,
   "id": "229978ad-cde4-4b8c-94ef-97909600cd1d",
   "metadata": {},
   "outputs": [],
   "source": [
    "MAE = mean_absolute_error(y_test,test_predictions)\n",
    "MSE = mean_squared_error(y_test,test_predictions)\n",
    "RMSE = np.sqrt(MSE)"
   ]
  },
  {
   "cell_type": "code",
   "execution_count": 394,
   "id": "7bea4774-fa4d-4d9c-8479-4a8c9ee466d5",
   "metadata": {},
   "outputs": [
    {
     "name": "stdout",
     "output_type": "stream",
     "text": [
      "MAE= 165505.68815627176, MSE= 177671452724.87537, RMSE= 421510.9164954988\n"
     ]
    }
   ],
   "source": [
    "print (f\"MAE= {MAE}, MSE= {MSE}, RMSE= {RMSE}\")"
   ]
  },
  {
   "cell_type": "code",
   "execution_count": 395,
   "id": "94b6c7b3-85db-4551-9c27-9da12df2f552",
   "metadata": {},
   "outputs": [
    {
     "data": {
      "text/plain": [
       "165578.1844918256"
      ]
     },
     "execution_count": 395,
     "metadata": {},
     "output_type": "execute_result"
    }
   ],
   "source": [
    "# Training Set Performance\n",
    "\n",
    "train_predictions = ridge_cv_model.predict(X_train)\n",
    "MAE = mean_absolute_error(y_train,train_predictions)\n",
    "MAE"
   ]
  },
  {
   "cell_type": "code",
   "execution_count": 396,
   "id": "565fecca-e2ce-4bf0-9606-718e90a8e3f9",
   "metadata": {},
   "outputs": [],
   "source": [
    "#ridge_cv_model.coef_"
   ]
  },
  {
   "cell_type": "markdown",
   "id": "0ac66dfb-3b05-4901-8168-f6e0bceff8ac",
   "metadata": {},
   "source": [
    "# Prediction on New Data"
   ]
  },
  {
   "cell_type": "code",
   "execution_count": 397,
   "id": "cc633f40-e0b9-4165-8e8d-6bc091dc9520",
   "metadata": {},
   "outputs": [],
   "source": [
    "cost = {'bedrooms':3.0,'bathrooms':2.00,'sqft_living':1570,'sqft_lot':7500,'floors':2.0,'waterfront':0,'view':4,'condition':5,\n",
    "          'sqft_above':3560,'sqft_basement':300,'yr_built':1932,'yr_renovated':2007,'city':2}\n",
    "index=[1]#serial number\n",
    "my_data=pd.DataFrame(cost,index)"
   ]
  },
  {
   "cell_type": "code",
   "execution_count": 398,
   "id": "88486dd2-ac8a-4db3-9158-ac12212c5d78",
   "metadata": {},
   "outputs": [
    {
     "name": "stdout",
     "output_type": "stream",
     "text": [
      "   bedrooms  bathrooms  sqft_living  sqft_lot  floors  waterfront  view  \\\n",
      "1       3.0        2.0         1570      7500     2.0           0     4   \n",
      "\n",
      "   condition  sqft_above  sqft_basement  yr_built  yr_renovated  city  \n",
      "1          5        3560            300      1932          2007     2  \n"
     ]
    }
   ],
   "source": [
    "print(my_data)"
   ]
  },
  {
   "cell_type": "code",
   "execution_count": 399,
   "id": "5fbcd41b-ed53-47c3-ac11-5c8f3a380759",
   "metadata": {},
   "outputs": [],
   "source": [
    " # my_data_polynomial_converter = PolynomialFeatures(degree=1,include_bias=False)"
   ]
  },
  {
   "cell_type": "code",
   "execution_count": 400,
   "id": "5f225de1-2aaf-452e-b7d4-d4531b911984",
   "metadata": {},
   "outputs": [],
   "source": [
    "# my_data_features = my_data_polynomial_converter.fit_transform(my_data)"
   ]
  },
  {
   "cell_type": "code",
   "execution_count": 401,
   "id": "e13ce3bd-f6c4-4027-b601-1744e3f4ba64",
   "metadata": {},
   "outputs": [
    {
     "name": "stdout",
     "output_type": "stream",
     "text": [
      " The predicted price for the given data is :[3.89762825e+08]\n"
     ]
    }
   ],
   "source": [
    "my_data_price= ridge_cv_model.predict(my_data.values)\n",
    "rounded_price = np.round(my_data_price, 2)\n",
    "print(f\" The predicted price for the given data is :{rounded_price}\")"
   ]
  },
  {
   "cell_type": "markdown",
   "id": "d2fec7f4-f3f1-49b1-b960-9b9cb821657a",
   "metadata": {},
   "source": [
    "# Lasso Regression"
   ]
  },
  {
   "cell_type": "code",
   "execution_count": 402,
   "id": "b9668c2d-8249-4e08-b6c7-86a31e3e4a2d",
   "metadata": {},
   "outputs": [],
   "source": [
    "from sklearn.linear_model import LassoCV"
   ]
  },
  {
   "cell_type": "code",
   "execution_count": 403,
   "id": "948c98c5-f335-4d86-b141-565c00f742fc",
   "metadata": {},
   "outputs": [],
   "source": [
    "# https://scikit-learn.org/stable/modules/generated/sklearn.linear_model.LassoCV.html\n",
    "lasso_cv_model = LassoCV(eps=0.1,n_alphas=100,cv=5)"
   ]
  },
  {
   "cell_type": "code",
   "execution_count": 404,
   "id": "deb44d74-0821-48e5-a152-d8d50dce2069",
   "metadata": {},
   "outputs": [
    {
     "data": {
      "text/plain": [
       "LassoCV(cv=5, eps=0.1)"
      ]
     },
     "execution_count": 404,
     "metadata": {},
     "output_type": "execute_result"
    }
   ],
   "source": [
    "lasso_cv_model.fit(X_train,y_train)"
   ]
  },
  {
   "cell_type": "code",
   "execution_count": 405,
   "id": "e5ccc295-f19f-4c37-93ef-ca37e87f057d",
   "metadata": {},
   "outputs": [
    {
     "data": {
      "text/plain": [
       "23527.52211034554"
      ]
     },
     "execution_count": 405,
     "metadata": {},
     "output_type": "execute_result"
    }
   ],
   "source": [
    "lasso_cv_model.alpha_"
   ]
  },
  {
   "cell_type": "code",
   "execution_count": 406,
   "id": "51e72a08-174e-4526-b807-5bdb4d18ac4d",
   "metadata": {},
   "outputs": [],
   "source": [
    "test_predictions = lasso_cv_model.predict(X_test)"
   ]
  },
  {
   "cell_type": "code",
   "execution_count": 407,
   "id": "a332488f-fa45-4726-8ee6-f8447d2f3a2b",
   "metadata": {},
   "outputs": [],
   "source": [
    "MAE = mean_absolute_error(y_test,test_predictions)\n",
    "MSE = mean_squared_error(y_test,test_predictions)\n",
    "RMSE = np.sqrt(MSE)"
   ]
  },
  {
   "cell_type": "code",
   "execution_count": 408,
   "id": "12522e65-f50b-46c9-94f3-552fbad77dac",
   "metadata": {},
   "outputs": [
    {
     "name": "stdout",
     "output_type": "stream",
     "text": [
      "MAE= 170762.8199417872, MSE= 184113357947.14636, RMSE= 429084.3249841998\n"
     ]
    }
   ],
   "source": [
    "print (f\"MAE= {MAE}, MSE= {MSE}, RMSE= {RMSE}\")"
   ]
  },
  {
   "cell_type": "code",
   "execution_count": 409,
   "id": "25f67fbe-610a-4ce6-a30f-bfb77febcaf7",
   "metadata": {},
   "outputs": [
    {
     "data": {
      "text/plain": [
       "174772.25336765384"
      ]
     },
     "execution_count": 409,
     "metadata": {},
     "output_type": "execute_result"
    }
   ],
   "source": [
    "# Training Set Performance\n",
    "# Training Set Performance\n",
    "train_predictions = lasso_cv_model.predict(X_train)\n",
    "MAE = mean_absolute_error(y_train,train_predictions)\n",
    "MAE"
   ]
  },
  {
   "cell_type": "markdown",
   "id": "fb10ba93-933b-43ad-a5c0-0d6528ba7f78",
   "metadata": {},
   "source": [
    "# Prediction on New Data"
   ]
  },
  {
   "cell_type": "code",
   "execution_count": 410,
   "id": "1c762ec7-d3ed-411b-a66c-562973a91b2e",
   "metadata": {},
   "outputs": [],
   "source": [
    "cost = {'bedrooms':3.0,'bathrooms':2.00,'sqft_living':1570,'sqft_lot':7500,'floors':2.0,'waterfront':0,'view':4,'condition':5,\n",
    "          'sqft_above':3560,'sqft_basement':300,'yr_built':1932,'yr_renovated':2007,'city':2}\n",
    "index=[1]#serial number\n",
    "my_data=pd.DataFrame(cost,index)\n"
   ]
  },
  {
   "cell_type": "code",
   "execution_count": 411,
   "id": "8314341f-c49c-4a79-8b97-caf9b999ab32",
   "metadata": {},
   "outputs": [
    {
     "name": "stdout",
     "output_type": "stream",
     "text": [
      "   bedrooms  bathrooms  sqft_living  sqft_lot  floors  waterfront  view  \\\n",
      "1       3.0        2.0         1570      7500     2.0           0     4   \n",
      "\n",
      "   condition  sqft_above  sqft_basement  yr_built  yr_renovated  city  \n",
      "1          5        3560            300      1932          2007     2  \n"
     ]
    }
   ],
   "source": [
    "print(my_data)"
   ]
  },
  {
   "cell_type": "code",
   "execution_count": 412,
   "id": "618474d2-3d70-4055-9834-a917d6afe6f4",
   "metadata": {},
   "outputs": [
    {
     "name": "stdout",
     "output_type": "stream",
     "text": [
      " The predicted price for the given data is :[3.21185549e+08]\n"
     ]
    }
   ],
   "source": [
    "my_data_price= lasso_cv_model.predict(my_data.values)\n",
    "rounded_price = np.round(my_data_price, 2)\n",
    "print(f\" The predicted price for the given data is :{rounded_price}\")"
   ]
  },
  {
   "cell_type": "markdown",
   "id": "62007017-0ff7-41e7-8b3a-b1b228877c2c",
   "metadata": {},
   "source": [
    "# Elastic Net"
   ]
  },
  {
   "cell_type": "code",
   "execution_count": 413,
   "id": "a769d255-4159-42bd-831a-fc54c1742f5f",
   "metadata": {},
   "outputs": [],
   "source": [
    "from sklearn.linear_model import ElasticNetCV"
   ]
  },
  {
   "cell_type": "code",
   "execution_count": 414,
   "id": "b1189745-d32d-4844-9d6f-4c784993d6a2",
   "metadata": {},
   "outputs": [],
   "source": [
    "elastic_model = ElasticNetCV(l1_ratio=[.1, .5, .7,.9, .95, .99, 1],tol=0.01)"
   ]
  },
  {
   "cell_type": "code",
   "execution_count": 415,
   "id": "3b3a6083-4e7e-4c68-a928-61cb0eba5089",
   "metadata": {},
   "outputs": [
    {
     "data": {
      "text/plain": [
       "ElasticNetCV(l1_ratio=[0.1, 0.5, 0.7, 0.9, 0.95, 0.99, 1], tol=0.01)"
      ]
     },
     "execution_count": 415,
     "metadata": {},
     "output_type": "execute_result"
    }
   ],
   "source": [
    "elastic_model.fit(X_train,y_train)"
   ]
  },
  {
   "cell_type": "code",
   "execution_count": 416,
   "id": "7ca1229f-6458-4784-90dc-d73888c8c627",
   "metadata": {},
   "outputs": [
    {
     "data": {
      "text/plain": [
       "1.0"
      ]
     },
     "execution_count": 416,
     "metadata": {},
     "output_type": "execute_result"
    }
   ],
   "source": [
    "elastic_model.l1_ratio_"
   ]
  },
  {
   "cell_type": "code",
   "execution_count": 417,
   "id": "cbfe1b88-f095-4ea9-b917-c52f5b112322",
   "metadata": {},
   "outputs": [],
   "source": [
    "test_predictions = elastic_model.predict(X_test)"
   ]
  },
  {
   "cell_type": "code",
   "execution_count": 418,
   "id": "e02dc07d-31b8-470f-8fa7-5015ad398d37",
   "metadata": {},
   "outputs": [],
   "source": [
    "MAE = mean_absolute_error(y_test,test_predictions)\n",
    "MSE = mean_squared_error(y_test,test_predictions)\n",
    "RMSE = np.sqrt(MSE)"
   ]
  },
  {
   "cell_type": "code",
   "execution_count": 419,
   "id": "2211545b-c399-423b-9ed7-c1604ee1bed6",
   "metadata": {},
   "outputs": [
    {
     "name": "stdout",
     "output_type": "stream",
     "text": [
      "MAE= 165406.22412410323, MSE= 177685590573.6399, RMSE= 421527.68660390493\n"
     ]
    }
   ],
   "source": [
    "print (f\"MAE= {MAE}, MSE= {MSE}, RMSE= {RMSE}\")"
   ]
  },
  {
   "cell_type": "code",
   "execution_count": 420,
   "id": "963f58ea-4625-48ef-abbd-973c4b4500b0",
   "metadata": {},
   "outputs": [
    {
     "data": {
      "text/plain": [
       "165560.48428086957"
      ]
     },
     "execution_count": 420,
     "metadata": {},
     "output_type": "execute_result"
    }
   ],
   "source": [
    "# Training Set Performance\n",
    "# Training Set Performance\n",
    "train_predictions = elastic_model.predict(X_train)\n",
    "MAE = mean_absolute_error(y_train,train_predictions)\n",
    "MAE"
   ]
  },
  {
   "cell_type": "code",
   "execution_count": 421,
   "id": "ae753f4f-127e-44d6-be28-42e0a8af15d2",
   "metadata": {},
   "outputs": [
    {
     "data": {
      "text/plain": [
       "array([-41927.53956552,  34240.62469937, 246100.03760473, -14712.68264826,\n",
       "        13262.36240844,  25455.36157854,  40749.24112084,  29785.60954278,\n",
       "         3540.1471355 , -22071.40857935, -54325.42122589,      0.        ,\n",
       "       -39148.24252332])"
      ]
     },
     "execution_count": 421,
     "metadata": {},
     "output_type": "execute_result"
    }
   ],
   "source": [
    "elastic_model.coef_"
   ]
  },
  {
   "cell_type": "markdown",
   "id": "be4f0725-bafd-48fe-82e8-1cd638dab4a9",
   "metadata": {},
   "source": [
    "# Prediction on New Data"
   ]
  },
  {
   "cell_type": "code",
   "execution_count": 422,
   "id": "b1a4688a-af05-49ac-a980-c9da700509f0",
   "metadata": {},
   "outputs": [],
   "source": [
    "cost = {'bedrooms':3.0,'bathrooms':2.00,'sqft_living':1570,'sqft_lot':7500,'floors':2.0,'waterfront':0,'view':4,'condition':5,\n",
    "          'sqft_above':3560,'sqft_basement':300,'yr_built':1932,'yr_renovated':2007,'city':2}\n",
    "index=[1]#serial number\n",
    "my_data=pd.DataFrame(cost,index)"
   ]
  },
  {
   "cell_type": "code",
   "execution_count": 423,
   "id": "decaaf09-9516-4dbc-bb47-cd123fae9f0c",
   "metadata": {},
   "outputs": [
    {
     "name": "stdout",
     "output_type": "stream",
     "text": [
      "   bedrooms  bathrooms  sqft_living  sqft_lot  floors  waterfront  view  \\\n",
      "1       3.0        2.0         1570      7500     2.0           0     4   \n",
      "\n",
      "   condition  sqft_above  sqft_basement  yr_built  yr_renovated  city  \n",
      "1          5        3560            300      1932          2007     2  \n"
     ]
    }
   ],
   "source": [
    "print(my_data)"
   ]
  },
  {
   "cell_type": "code",
   "execution_count": 425,
   "id": "9d966ef5-7539-4f41-a3c1-da8fcbdf5a43",
   "metadata": {},
   "outputs": [
    {
     "name": "stdout",
     "output_type": "stream",
     "text": [
      " The predicted price for the given data is :[1.77815631e+08]\n"
     ]
    }
   ],
   "source": [
    "my_data_price= elastic_model.predict(my_data.values)\n",
    "rounded_price = np.round(my_data_price, 2)\n",
    "print(f\" The predicted price for the given data is :{rounded_price}\")"
   ]
  },
  {
   "cell_type": "code",
   "execution_count": null,
   "id": "eff1a1ca-9300-4db3-b2fe-5689229177f6",
   "metadata": {},
   "outputs": [],
   "source": []
  }
 ],
 "metadata": {
  "kernelspec": {
   "display_name": "Python 3 (ipykernel)",
   "language": "python",
   "name": "python3"
  },
  "language_info": {
   "codemirror_mode": {
    "name": "ipython",
    "version": 3
   },
   "file_extension": ".py",
   "mimetype": "text/x-python",
   "name": "python",
   "nbconvert_exporter": "python",
   "pygments_lexer": "ipython3",
   "version": "3.9.13"
  }
 },
 "nbformat": 4,
 "nbformat_minor": 5
}
