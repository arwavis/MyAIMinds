{
  "nbformat": 4,
  "nbformat_minor": 0,
  "metadata": {
    "colab": {
      "name": "Loops_8:00-10:00.ipynb",
      "provenance": []
    },
    "kernelspec": {
      "name": "python3",
      "display_name": "Python 3"
    },
    "language_info": {
      "name": "python"
    }
  },
  "cells": [
    {
      "cell_type": "markdown",
      "source": [
        "Take a number as input from the user and print its multiplication table"
      ],
      "metadata": {
        "id": "ia3QO8_MnH-F"
      }
    },
    {
      "cell_type": "code",
      "execution_count": 1,
      "metadata": {
        "colab": {
          "base_uri": "https://localhost:8080/"
        },
        "id": "8ivBdQCPnFWP",
        "outputId": "c3d2efe2-285f-4676-f7d3-1e9703a9f4d8"
      },
      "outputs": [
        {
          "output_type": "stream",
          "name": "stdout",
          "text": [
            "enter a number5\n",
            "5\n",
            "10\n",
            "15\n",
            "20\n",
            "25\n",
            "30\n",
            "35\n",
            "40\n",
            "45\n",
            "50\n"
          ]
        }
      ],
      "source": [
        "num = int(input(\"enter a number\"))\n",
        "\n",
        "for i in range (1,11):\n",
        "    print (num*i)"
      ]
    },
    {
      "cell_type": "markdown",
      "source": [
        "Take a list of numbers and display all the even numbers from the list"
      ],
      "metadata": {
        "id": "MZGfLHr9nh6h"
      }
    },
    {
      "cell_type": "code",
      "source": [
        "l1=[90,56,8,43,27,49,23,33]\n",
        "\n",
        "for i in l1:\n",
        "  if i%2==0:\n",
        "    print(i)\n",
        "\n",
        "  else:\n",
        "    pass"
      ],
      "metadata": {
        "colab": {
          "base_uri": "https://localhost:8080/"
        },
        "id": "HM-y2OFenpwk",
        "outputId": "070fae92-be5e-4cd6-fd85-4eaf86da011c"
      },
      "execution_count": 2,
      "outputs": [
        {
          "output_type": "stream",
          "name": "stdout",
          "text": [
            "90\n",
            "56\n",
            "8\n"
          ]
        }
      ]
    },
    {
      "cell_type": "markdown",
      "source": [
        "what if i want to diplay both even and odd numbers from my list at a time ?"
      ],
      "metadata": {
        "id": "Zt1TeW89q-QI"
      }
    },
    {
      "cell_type": "markdown",
      "source": [
        "what if i want to count both even and odd numbers from my list at a time ?"
      ],
      "metadata": {
        "id": "589aFeUOrhv_"
      }
    },
    {
      "cell_type": "code",
      "source": [
        "l1=[90,56,8,43,27,49,23,33]\n",
        "\n",
        "count_even = 0\n",
        "count_odd = 0\n",
        "\n",
        "for i in l1:\n",
        "  if i%2==0:\n",
        "    count_even+=1\n",
        "\n",
        "  else:\n",
        "    count_odd+=1\n",
        "\n",
        "print(\"number of even numbers in the list\",count_even)\n",
        "print(\"number of odd numbers in the list\",count_odd)"
      ],
      "metadata": {
        "colab": {
          "base_uri": "https://localhost:8080/"
        },
        "id": "dbAD5h34sYGx",
        "outputId": "6da646f5-ee2c-4887-bf4d-868b2a8f27fc"
      },
      "execution_count": 3,
      "outputs": [
        {
          "output_type": "stream",
          "name": "stdout",
          "text": [
            "number of even numbers in the list 3\n",
            "number of odd numbers in the list 5\n"
          ]
        }
      ]
    },
    {
      "cell_type": "markdown",
      "source": [
        "Take a list of numbers and display squares of each number in your list"
      ],
      "metadata": {
        "id": "KN0hHyWDsQti"
      }
    },
    {
      "cell_type": "code",
      "source": [
        "numbers =[2,5,8,9]\n",
        "\n",
        "sq_numbers = []\n",
        "\n",
        "for i in numbers:\n",
        "  sq_numbers.append(i*i)\n",
        "\n",
        "print(sq_numbers)"
      ],
      "metadata": {
        "colab": {
          "base_uri": "https://localhost:8080/"
        },
        "id": "RUVApuEio_T2",
        "outputId": "6645855b-f82d-4650-c13c-142ec9e4ed44"
      },
      "execution_count": 5,
      "outputs": [
        {
          "output_type": "stream",
          "name": "stdout",
          "text": [
            "[4, 25, 64, 81]\n"
          ]
        }
      ]
    },
    {
      "cell_type": "markdown",
      "source": [
        "Statements\n",
        "\n",
        "PASS\n",
        "\n",
        "BREAK\n",
        "\n",
        "CONTINUE"
      ],
      "metadata": {
        "id": "cNBD9fFUu3ma"
      }
    },
    {
      "cell_type": "code",
      "source": [
        "#pass\n",
        "x=9\n",
        "y=17\n",
        "\n",
        "if x>y:\n",
        "  print('x is greater')\n",
        "\n",
        "else:\n",
        "  pass"
      ],
      "metadata": {
        "id": "oiGVk9Esum3k"
      },
      "execution_count": 8,
      "outputs": []
    },
    {
      "cell_type": "code",
      "source": [
        "#break - forcebly terminate the ongoing loop if the given condition is satisfied\n",
        "\n",
        "fruits=['mango','banana','apple','guava','apricot']\n",
        "\n",
        "for i in fruits:\n",
        "  if i=='apple':\n",
        "    break\n",
        "\n",
        "  print(i)"
      ],
      "metadata": {
        "colab": {
          "base_uri": "https://localhost:8080/"
        },
        "id": "GowW1NmzvNEl",
        "outputId": "56a34420-647b-4f17-856a-f97a8c8952c8"
      },
      "execution_count": 9,
      "outputs": [
        {
          "output_type": "stream",
          "name": "stdout",
          "text": [
            "mango\n",
            "banana\n"
          ]
        }
      ]
    },
    {
      "cell_type": "code",
      "source": [
        "name='aashutosh'\n",
        "\n",
        "for i in name:\n",
        "  if i=='t':\n",
        "    break\n",
        "\n",
        "  print(i,end=\"\")"
      ],
      "metadata": {
        "colab": {
          "base_uri": "https://localhost:8080/"
        },
        "id": "tYOMdH2EwF6p",
        "outputId": "63dd3cf3-b902-4380-96ce-697824e3125c"
      },
      "execution_count": 12,
      "outputs": [
        {
          "output_type": "stream",
          "name": "stdout",
          "text": [
            "aashu"
          ]
        }
      ]
    },
    {
      "cell_type": "code",
      "source": [
        "#continue - when the condition satisfies, we will skip the mentioned element\n",
        "fruits=['mango','banana','apple','guava','apricot']\n",
        "\n",
        "for i in fruits:\n",
        "  if i=='apple':\n",
        "    continue\n",
        "\n",
        "  print(i)"
      ],
      "metadata": {
        "colab": {
          "base_uri": "https://localhost:8080/"
        },
        "id": "uUyE2AsLwVPs",
        "outputId": "f82fa9cd-97df-45ed-9949-20c0eb2e2478"
      },
      "execution_count": 13,
      "outputs": [
        {
          "output_type": "stream",
          "name": "stdout",
          "text": [
            "mango\n",
            "banana\n",
            "guava\n",
            "apricot\n"
          ]
        }
      ]
    },
    {
      "cell_type": "code",
      "source": [
        "name='aashutosh'\n",
        "\n",
        "for i in name:\n",
        "  if i=='t':\n",
        "    continue\n",
        "\n",
        "  print(i,end=\"\")"
      ],
      "metadata": {
        "colab": {
          "base_uri": "https://localhost:8080/"
        },
        "id": "ipaO2Wn_wzvc",
        "outputId": "17d7297b-7680-49ad-b457-ed1511cd3309"
      },
      "execution_count": 14,
      "outputs": [
        {
          "output_type": "stream",
          "name": "stdout",
          "text": [
            "aashuosh"
          ]
        }
      ]
    },
    {
      "cell_type": "markdown",
      "source": [
        "Display all the numbers between 0-6 except 3 and 6"
      ],
      "metadata": {
        "id": "6fXtSwKIxMzo"
      }
    },
    {
      "cell_type": "code",
      "source": [
        "for i in range (0,7):\n",
        "    if i == 3 or i == 6:\n",
        "        continue\n",
        "     \n",
        "    print (i)"
      ],
      "metadata": {
        "colab": {
          "base_uri": "https://localhost:8080/"
        },
        "id": "dHdD-lNCxGGx",
        "outputId": "45256625-371e-4022-ff7a-12cafba7dfd0"
      },
      "execution_count": 15,
      "outputs": [
        {
          "output_type": "stream",
          "name": "stdout",
          "text": [
            "0\n",
            "1\n",
            "2\n",
            "4\n",
            "5\n"
          ]
        }
      ]
    },
    {
      "cell_type": "code",
      "source": [
        ""
      ],
      "metadata": {
        "id": "y-AI9j6KyQ89"
      },
      "execution_count": null,
      "outputs": []
    }
  ]
}