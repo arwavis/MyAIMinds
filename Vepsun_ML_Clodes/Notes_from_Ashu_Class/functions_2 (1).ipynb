{
  "nbformat": 4,
  "nbformat_minor": 0,
  "metadata": {
    "colab": {
      "name": "functions_2.ipynb",
      "provenance": []
    },
    "kernelspec": {
      "name": "python3",
      "display_name": "Python 3"
    },
    "language_info": {
      "name": "python"
    }
  },
  "cells": [
    {
      "cell_type": "code",
      "execution_count": null,
      "metadata": {
        "id": "yKx41EX76A7L"
      },
      "outputs": [],
      "source": [
        "#define\n",
        "def add(a,b):\n",
        "  c=a+b\n",
        "  print(c)"
      ]
    },
    {
      "cell_type": "code",
      "source": [
        "#call\n",
        "add(14,56)"
      ],
      "metadata": {
        "colab": {
          "base_uri": "https://localhost:8080/"
        },
        "id": "xwXzesjy6N6g",
        "outputId": "8f64e199-b442-4aab-d1c7-e652101ea7a2"
      },
      "execution_count": null,
      "outputs": [
        {
          "output_type": "stream",
          "name": "stdout",
          "text": [
            "70\n"
          ]
        }
      ]
    },
    {
      "cell_type": "code",
      "source": [
        "add(90,-45)"
      ],
      "metadata": {
        "colab": {
          "base_uri": "https://localhost:8080/"
        },
        "id": "BwRq-Ac06YAH",
        "outputId": "2d58e7ec-aa0d-469f-904a-51e863a4c56c"
      },
      "execution_count": null,
      "outputs": [
        {
          "output_type": "stream",
          "name": "stdout",
          "text": [
            "45\n"
          ]
        }
      ]
    },
    {
      "cell_type": "markdown",
      "source": [
        "Create a function which performs all the mathematical operations with respect to two numbers"
      ],
      "metadata": {
        "id": "WqLZ9kNG6bsP"
      }
    },
    {
      "cell_type": "code",
      "source": [
        "def compute(a,b):\n",
        "  c=a+b\n",
        "  d=a-b\n",
        "  e=a*b\n",
        "  f=a/b\n",
        "\n",
        "  print(c,d,e,f)"
      ],
      "metadata": {
        "id": "JxiRK-i_6bPH"
      },
      "execution_count": null,
      "outputs": []
    },
    {
      "cell_type": "code",
      "source": [
        "compute(5,9)"
      ],
      "metadata": {
        "colab": {
          "base_uri": "https://localhost:8080/"
        },
        "id": "eH4QS_SP6xyz",
        "outputId": "9fd1ada4-2404-43b9-c08f-814c68847dd7"
      },
      "execution_count": null,
      "outputs": [
        {
          "output_type": "stream",
          "name": "stdout",
          "text": [
            "14 -4 45 0.5555555555555556\n"
          ]
        }
      ]
    },
    {
      "cell_type": "markdown",
      "source": [
        "What is the difference if i am using print() and if i am using return statement"
      ],
      "metadata": {
        "id": "ULUWxW2M6Gfl"
      }
    },
    {
      "cell_type": "markdown",
      "source": [
        "Create a function which takes name and age as input and display the name of the person"
      ],
      "metadata": {
        "id": "O2fLDHOHcdI6"
      }
    },
    {
      "cell_type": "code",
      "source": [
        "def info(name, age):\n",
        "  print('your name is',name)"
      ],
      "metadata": {
        "id": "G7JIhUkqcoH5"
      },
      "execution_count": 1,
      "outputs": []
    },
    {
      "cell_type": "code",
      "source": [
        "info('Aashutosh',28)"
      ],
      "metadata": {
        "colab": {
          "base_uri": "https://localhost:8080/"
        },
        "id": "psT0n7ZNfxpq",
        "outputId": "a8ca8b3d-097f-49e6-ec59-82fff009f8c4"
      },
      "execution_count": 2,
      "outputs": [
        {
          "output_type": "stream",
          "name": "stdout",
          "text": [
            "your name is Aashutosh\n"
          ]
        }
      ]
    },
    {
      "cell_type": "code",
      "source": [
        "info('Meera',28)"
      ],
      "metadata": {
        "colab": {
          "base_uri": "https://localhost:8080/"
        },
        "id": "MFb4gmaigDpD",
        "outputId": "edac1047-a277-4cfa-d036-d4502cfafee5"
      },
      "execution_count": 3,
      "outputs": [
        {
          "output_type": "stream",
          "name": "stdout",
          "text": [
            "your name is Meera\n"
          ]
        }
      ]
    },
    {
      "cell_type": "markdown",
      "source": [
        "Create a function which takes name and salary as input and display the salary of the person. Incase the salary is not mentioned, use default salary as 10,000"
      ],
      "metadata": {
        "id": "z7_4iBlhco57"
      }
    },
    {
      "cell_type": "code",
      "source": [
        "def data(name, salary=10000):\n",
        "\n",
        "  print('your salary is',salary)"
      ],
      "metadata": {
        "id": "p7biDgGzc12v"
      },
      "execution_count": 14,
      "outputs": []
    },
    {
      "cell_type": "code",
      "source": [
        "data('aashutosh')"
      ],
      "metadata": {
        "colab": {
          "base_uri": "https://localhost:8080/"
        },
        "id": "lasq19F0hXCR",
        "outputId": "378f5df1-d33e-454a-f4c7-bb3e01be56cd"
      },
      "execution_count": 15,
      "outputs": [
        {
          "output_type": "stream",
          "name": "stdout",
          "text": [
            "your salary is 10000\n"
          ]
        }
      ]
    },
    {
      "cell_type": "markdown",
      "source": [
        "Types of Arguments\n",
        "\n",
        "1. Arbitrary arguments\n",
        "\n",
        "2. Keyword arguments"
      ],
      "metadata": {
        "id": "vtZ0AZmEmpaq"
      }
    },
    {
      "cell_type": "code",
      "source": [
        "def func1(*child):\n",
        "  print('youngest child is',child[2])"
      ],
      "metadata": {
        "id": "rS9iLMDghZq9"
      },
      "execution_count": 16,
      "outputs": []
    },
    {
      "cell_type": "code",
      "source": [
        "func1('Ram','Shyam','Meera','Rita')"
      ],
      "metadata": {
        "colab": {
          "base_uri": "https://localhost:8080/"
        },
        "id": "vBkVpbDcm0kd",
        "outputId": "106b93d5-bf84-419f-f8f1-3e4cba1afcf5"
      },
      "execution_count": 17,
      "outputs": [
        {
          "output_type": "stream",
          "name": "stdout",
          "text": [
            "youngest child is Meera\n"
          ]
        }
      ]
    },
    {
      "cell_type": "code",
      "source": [
        "def func2(child3,child1,child2):\n",
        "  print(\"youngest child is\",child2)"
      ],
      "metadata": {
        "id": "Gbk4l-OMm5S0"
      },
      "execution_count": 18,
      "outputs": []
    },
    {
      "cell_type": "code",
      "source": [
        "func2(child1='Ram',child2='Shyam',child3='Rita')"
      ],
      "metadata": {
        "colab": {
          "base_uri": "https://localhost:8080/"
        },
        "id": "CpblHiJUo7hX",
        "outputId": "075ab503-38e1-4aab-cc00-f7d5cadff93d"
      },
      "execution_count": 19,
      "outputs": [
        {
          "output_type": "stream",
          "name": "stdout",
          "text": [
            "youngest child is Shyam\n"
          ]
        }
      ]
    },
    {
      "cell_type": "code",
      "source": [
        "def func3(**names):\n",
        "  print('your first name is',names['fname'])"
      ],
      "metadata": {
        "id": "9L1Jdfr8pB7j"
      },
      "execution_count": 20,
      "outputs": []
    },
    {
      "cell_type": "code",
      "source": [
        "func3(fname='Meera',lname='Mishra')"
      ],
      "metadata": {
        "colab": {
          "base_uri": "https://localhost:8080/"
        },
        "id": "zSbOxYtetFR7",
        "outputId": "26e7f627-72b3-4855-b06e-6696442b699f"
      },
      "execution_count": 21,
      "outputs": [
        {
          "output_type": "stream",
          "name": "stdout",
          "text": [
            "your first name is Meera\n"
          ]
        }
      ]
    },
    {
      "cell_type": "markdown",
      "source": [
        "Create a function which checks whether a number is in a given range or not"
      ],
      "metadata": {
        "id": "M0BGjlKntgq7"
      }
    },
    {
      "cell_type": "code",
      "source": [
        "def check(n):\n",
        "  if n in range(3,9):\n",
        "    print(n,'is in the range')\n",
        "\n",
        "  else:\n",
        "    print('not in range')"
      ],
      "metadata": {
        "id": "-T-s5RQRtKWX"
      },
      "execution_count": 22,
      "outputs": []
    },
    {
      "cell_type": "code",
      "source": [
        "check(5)"
      ],
      "metadata": {
        "colab": {
          "base_uri": "https://localhost:8080/"
        },
        "id": "KVEbYWVSwSTS",
        "outputId": "f196f172-b505-4163-9eca-24df696bef41"
      },
      "execution_count": 23,
      "outputs": [
        {
          "output_type": "stream",
          "name": "stdout",
          "text": [
            "5 is in the range\n"
          ]
        }
      ]
    },
    {
      "cell_type": "code",
      "source": [
        "check(0)"
      ],
      "metadata": {
        "colab": {
          "base_uri": "https://localhost:8080/"
        },
        "id": "1ossIi6EwXCW",
        "outputId": "a4bca66c-5e3d-40ab-b82f-83cd34d579f5"
      },
      "execution_count": 24,
      "outputs": [
        {
          "output_type": "stream",
          "name": "stdout",
          "text": [
            "not in range\n"
          ]
        }
      ]
    },
    {
      "cell_type": "markdown",
      "source": [
        "Create a function which takes a list of numbers and returns all the duplicate elements from the list into a new list"
      ],
      "metadata": {
        "id": "BCln6fZit3q9"
      }
    },
    {
      "cell_type": "code",
      "source": [
        ""
      ],
      "metadata": {
        "id": "5YpnKvRWuBrU"
      },
      "execution_count": null,
      "outputs": []
    }
  ]
}