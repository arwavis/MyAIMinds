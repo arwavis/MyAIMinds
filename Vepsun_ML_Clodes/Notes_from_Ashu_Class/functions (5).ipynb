{
  "nbformat": 4,
  "nbformat_minor": 0,
  "metadata": {
    "colab": {
      "name": "functions.ipynb",
      "provenance": []
    },
    "kernelspec": {
      "name": "python3",
      "display_name": "Python 3"
    },
    "language_info": {
      "name": "python"
    }
  },
  "cells": [
    {
      "cell_type": "code",
      "execution_count": 1,
      "metadata": {
        "id": "yKx41EX76A7L"
      },
      "outputs": [],
      "source": [
        "#define\n",
        "def add(a,b):\n",
        "  c=a+b\n",
        "  print(c)"
      ]
    },
    {
      "cell_type": "code",
      "source": [
        "#call\n",
        "add(14,56)"
      ],
      "metadata": {
        "colab": {
          "base_uri": "https://localhost:8080/"
        },
        "id": "xwXzesjy6N6g",
        "outputId": "8f64e199-b442-4aab-d1c7-e652101ea7a2"
      },
      "execution_count": 2,
      "outputs": [
        {
          "output_type": "stream",
          "name": "stdout",
          "text": [
            "70\n"
          ]
        }
      ]
    },
    {
      "cell_type": "code",
      "source": [
        "add(90,-45)"
      ],
      "metadata": {
        "colab": {
          "base_uri": "https://localhost:8080/"
        },
        "id": "BwRq-Ac06YAH",
        "outputId": "2d58e7ec-aa0d-469f-904a-51e863a4c56c"
      },
      "execution_count": 3,
      "outputs": [
        {
          "output_type": "stream",
          "name": "stdout",
          "text": [
            "45\n"
          ]
        }
      ]
    },
    {
      "cell_type": "markdown",
      "source": [
        "Create a function which performs all the mathematical operations with respect to two numbers"
      ],
      "metadata": {
        "id": "WqLZ9kNG6bsP"
      }
    },
    {
      "cell_type": "code",
      "source": [
        "def compute(a,b):\n",
        "  c=a+b\n",
        "  d=a-b\n",
        "  e=a*b\n",
        "  f=a/b\n",
        "\n",
        "  print(c,d,e,f)"
      ],
      "metadata": {
        "id": "JxiRK-i_6bPH"
      },
      "execution_count": 4,
      "outputs": []
    },
    {
      "cell_type": "code",
      "source": [
        "compute(5,9)"
      ],
      "metadata": {
        "colab": {
          "base_uri": "https://localhost:8080/"
        },
        "id": "eH4QS_SP6xyz",
        "outputId": "9fd1ada4-2404-43b9-c08f-814c68847dd7"
      },
      "execution_count": 5,
      "outputs": [
        {
          "output_type": "stream",
          "name": "stdout",
          "text": [
            "14 -4 45 0.5555555555555556\n"
          ]
        }
      ]
    },
    {
      "cell_type": "markdown",
      "source": [
        "What is the difference if i am using print() and if i am using return statement"
      ],
      "metadata": {
        "id": "ULUWxW2M6Gfl"
      }
    }
  ]
}