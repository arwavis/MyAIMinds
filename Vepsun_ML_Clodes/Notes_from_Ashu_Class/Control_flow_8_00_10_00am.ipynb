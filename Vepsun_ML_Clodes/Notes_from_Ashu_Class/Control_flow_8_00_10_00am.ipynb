{
  "nbformat": 4,
  "nbformat_minor": 0,
  "metadata": {
    "colab": {
      "name": "Control_flow_8:00-10:00am.ipynb",
      "provenance": []
    },
    "kernelspec": {
      "name": "python3",
      "display_name": "Python 3"
    },
    "language_info": {
      "name": "python"
    }
  },
  "cells": [
    {
      "cell_type": "markdown",
      "source": [
        "Take two numbers from the user x and y. Compare the two numbers and display the larger out of the two"
      ],
      "metadata": {
        "id": "fxIuR-32eYuh"
      }
    },
    {
      "cell_type": "code",
      "execution_count": 3,
      "metadata": {
        "colab": {
          "base_uri": "https://localhost:8080/"
        },
        "id": "5CoxCsecXI7N",
        "outputId": "3c54f8fa-949e-48c7-92ef-be3364b69398"
      },
      "outputs": [
        {
          "output_type": "stream",
          "name": "stdout",
          "text": [
            "enter the value of x10\n",
            "enter the value of y10\n",
            "both are equal\n"
          ]
        }
      ],
      "source": [
        "x=int(input(\"enter the value of x\"))\n",
        "y=int(input(\"enter the value of y\"))\n",
        "\n",
        "if x>y:\n",
        "  print(\"x is greater\")\n",
        "\n",
        "elif x==y:\n",
        "  print(\"both are equal\")\n",
        "\n",
        "else:\n",
        "  print(\"y is greater\")"
      ]
    },
    {
      "cell_type": "markdown",
      "source": [
        "In a fare, the entry fee for children less than 4 years of age is 0 INR, the fee for children in between the age 4-15 years is 100 INR and the fee for people more than 15 years of age is 175 INR. \n",
        "\n",
        "Take age as input from the user and display the associated fee for the person"
      ],
      "metadata": {
        "id": "qnm-Nyicff-1"
      }
    },
    {
      "cell_type": "code",
      "source": [
        "age = int(input(\"enter your age\"))\n",
        "\n",
        "if age<4:\n",
        "  fee = 0\n",
        "\n",
        "elif 4<=age<=15:\n",
        "  fee = 100\n",
        "\n",
        "else:\n",
        "  fee = 175\n",
        "\n",
        "print(\"please pay\",fee,\"INR\")"
      ],
      "metadata": {
        "colab": {
          "base_uri": "https://localhost:8080/"
        },
        "id": "Nm7Hugqlegop",
        "outputId": "40a6dacc-8332-4e43-d43b-858f9a48d249"
      },
      "execution_count": 7,
      "outputs": [
        {
          "output_type": "stream",
          "name": "stdout",
          "text": [
            "enter your age28\n",
            "please pay 175 INR\n"
          ]
        }
      ]
    },
    {
      "cell_type": "markdown",
      "source": [
        "NESTED IF STATEMENTS"
      ],
      "metadata": {
        "id": "e7d3rPNpisD7"
      }
    },
    {
      "cell_type": "code",
      "source": [
        "x=int(input(\"enter value of x\"))\n",
        "\n",
        "if x>10:\n",
        "\n",
        "  if x>20:\n",
        "    print(\"x is greater than 20\")\n",
        "\n",
        "  elif x==20:\n",
        "    print(\"x is equal to 20\")\n",
        "\n",
        "  else:\n",
        "    print(\"x is greater than 10 but less than 20\")\n",
        "\n",
        "else:\n",
        "  print(\"x is less than 10\")"
      ],
      "metadata": {
        "colab": {
          "base_uri": "https://localhost:8080/"
        },
        "id": "KW4eheI8iCBs",
        "outputId": "936742c1-5e19-4cba-b086-d94233e80154"
      },
      "execution_count": 11,
      "outputs": [
        {
          "output_type": "stream",
          "name": "stdout",
          "text": [
            "enter value of x7\n",
            "x is less than 10\n"
          ]
        }
      ]
    },
    {
      "cell_type": "markdown",
      "source": [
        "Take a number from the user and display if it is +ve -ve or 0"
      ],
      "metadata": {
        "id": "Cmw0ww-zm_H2"
      }
    },
    {
      "cell_type": "code",
      "source": [
        "x=int(input(\"enter value of x\"))\n",
        "\n",
        "if x>=0:\n",
        "\n",
        "  if x>0:\n",
        "    print(\"x is +ve\")\n",
        "\n",
        "  else:\n",
        "    print(\"x is 0\")\n",
        "\n",
        "else:\n",
        "  print(\"x is -ve\")"
      ],
      "metadata": {
        "colab": {
          "base_uri": "https://localhost:8080/"
        },
        "id": "eHFyT5j9mVz7",
        "outputId": "0098230c-499b-4d0e-8513-8d763ffdde9e"
      },
      "execution_count": 14,
      "outputs": [
        {
          "output_type": "stream",
          "name": "stdout",
          "text": [
            "enter value of x0\n",
            "x is 0\n"
          ]
        }
      ]
    },
    {
      "cell_type": "markdown",
      "source": [
        "WAP to check whether an alphabet is a vowel or a consonant\n",
        "\n",
        "exp. h, y etc."
      ],
      "metadata": {
        "id": "oICnXZk-pdn6"
      }
    },
    {
      "cell_type": "code",
      "source": [
        "a=input(\"enter your alphabet\")\n",
        "\n",
        "if a in ('a','e','i','o','u'):\n",
        "  print(\"is a vowel\")\n",
        "\n",
        "elif a=='h' or a=='y':\n",
        "  print(\"exception\")\n",
        "\n",
        "else:\n",
        "  print(\"is a consonant\")"
      ],
      "metadata": {
        "colab": {
          "base_uri": "https://localhost:8080/"
        },
        "id": "1W40mfCdo85H",
        "outputId": "44eb8239-f47b-4e28-9c77-46956e4b8480"
      },
      "execution_count": 19,
      "outputs": [
        {
          "output_type": "stream",
          "name": "stdout",
          "text": [
            "enter your alphabetz\n",
            "is a consonant\n"
          ]
        }
      ]
    },
    {
      "cell_type": "markdown",
      "source": [
        "WAP to display the number of days in a month against the names of the month "
      ],
      "metadata": {
        "id": "aZEOwQ3-xCCG"
      }
    },
    {
      "cell_type": "code",
      "source": [
        ""
      ],
      "metadata": {
        "id": "gp6XqZQ8sp3G"
      },
      "execution_count": null,
      "outputs": []
    }
  ]
}